{
  "nbformat": 4,
  "nbformat_minor": 0,
  "metadata": {
    "kernelspec": {
      "name": "python3",
      "display_name": "Python 3"
    },
    "language_info": {
      "codemirror_mode": {
        "name": "ipython",
        "version": 3
      },
      "file_extension": ".py",
      "mimetype": "text/x-python",
      "name": "python",
      "nbconvert_exporter": "python",
      "pygments_lexer": "ipython3",
      "version": "3.6.5"
    },
    "colab": {
      "name": "Copy of CapstoneB_Fixed&Rolling_CNNLSTM.ipynb",
      "provenance": [],
      "collapsed_sections": [
        "_nKvBJesPyFt",
        "5xH4lzZXia-j"
      ],
      "include_colab_link": true
    },
    "accelerator": "GPU"
  },
  "cells": [
    {
      "cell_type": "markdown",
      "metadata": {
        "id": "view-in-github",
        "colab_type": "text"
      },
      "source": [
        "<a href=\"https://colab.research.google.com/github/lj89/Colab/blob/master/Copy_of_CapstoneB_Fixed%26Rolling_CNNLSTM.ipynb\" target=\"_parent\"><img src=\"https://colab.research.google.com/assets/colab-badge.svg\" alt=\"Open In Colab\"/></a>"
      ]
    },
    {
      "cell_type": "markdown",
      "metadata": {
        "id": "7L6mu6R2M_Fj",
        "colab_type": "text"
      },
      "source": [
        "# Univariate time series - CNN LSTM model"
      ]
    },
    {
      "cell_type": "markdown",
      "metadata": {
        "id": "jNvsalb8VJI9",
        "colab_type": "text"
      },
      "source": [
        "## Data Prep"
      ]
    },
    {
      "cell_type": "code",
      "metadata": {
        "id": "zOAeofTGUNyd",
        "colab_type": "code",
        "outputId": "6df31906-37b5-4855-a257-b115b0037b09",
        "colab": {
          "base_uri": "https://localhost:8080/",
          "height": 54
        }
      },
      "source": [
        "%tensorflow_version 2.x\n",
        "import tensorflow as tf\n",
        "import numpy as np\n",
        "import matplotlib.pyplot as plt\n",
        "print(tf.__version__)"
      ],
      "execution_count": 0,
      "outputs": [
        {
          "output_type": "stream",
          "text": [
            "TensorFlow 2.x selected.\n",
            "2.1.0\n"
          ],
          "name": "stdout"
        }
      ]
    },
    {
      "cell_type": "code",
      "metadata": {
        "id": "x9c2TFRCbXCZ",
        "colab_type": "code",
        "outputId": "27ee0d76-45f7-471b-9f70-7ae9ee5a5fe4",
        "colab": {
          "base_uri": "https://localhost:8080/",
          "height": 130
        }
      },
      "source": [
        "# allow access to google drive files\n",
        "from google.colab import drive\n",
        "drive.mount('/content/drive')"
      ],
      "execution_count": 0,
      "outputs": [
        {
          "output_type": "stream",
          "text": [
            "Go to this URL in a browser: https://accounts.google.com/o/oauth2/auth?client_id=947318989803-6bn6qk8qdgf4n4g3pfee6491hc0brc4i.apps.googleusercontent.com&redirect_uri=urn%3aietf%3awg%3aoauth%3a2.0%3aoob&response_type=code&scope=email%20https%3a%2f%2fwww.googleapis.com%2fauth%2fdocs.test%20https%3a%2f%2fwww.googleapis.com%2fauth%2fdrive%20https%3a%2f%2fwww.googleapis.com%2fauth%2fdrive.photos.readonly%20https%3a%2f%2fwww.googleapis.com%2fauth%2fpeopleapi.readonly\n",
            "\n",
            "Enter your authorization code:\n",
            "··········\n",
            "Mounted at /content/drive\n"
          ],
          "name": "stdout"
        }
      ]
    },
    {
      "cell_type": "code",
      "metadata": {
        "id": "xH5XY4XHY6Yp",
        "colab_type": "code",
        "outputId": "fb8a1a5c-cf65-492c-c435-fc34419d315b",
        "colab": {
          "base_uri": "https://localhost:8080/",
          "height": 36
        }
      },
      "source": [
        "chain_dict = {\"WESTERN BEV LIQ TX\":\"WB\",\"SPEC S LIQUOR\":\"SPECS\",\"THE BARREL HOUSE\":\"BARREL\"}\n",
        "\n",
        "# change to pull data for another product/customer\n",
        "#chain = \"SPEC S LIQUOR\"\n",
        "chain = \"WESTERN BEV LIQ TX\"\n",
        "#chain = \"THE BARREL HOUSE\"\n",
        "chain_abbr = chain_dict.get(chain)\n",
        "\n",
        "prod_name = \"TAAKA VODKA 80 BLUE PET 375M\"\n",
        "#prod_name = \"MCCORMICK VODKA 80 PET 1L\"\n",
        "\n",
        "\n",
        "data_path = \"/content/drive/My Drive/Colab Notebooks/Capstone/data/\"\n",
        "data_filename = data_path + chain_abbr + \"_\" + prod_name + \".csv\"\n",
        "print(data_filename)"
      ],
      "execution_count": 0,
      "outputs": [
        {
          "output_type": "stream",
          "text": [
            "/content/drive/My Drive/Colab Notebooks/Capstone/data/WB_TAAKA VODKA 80 BLUE PET 375M.csv\n"
          ],
          "name": "stdout"
        }
      ]
    },
    {
      "cell_type": "code",
      "metadata": {
        "id": "ychbqkieUNym",
        "colab_type": "code",
        "colab": {}
      },
      "source": [
        "import csv\n",
        "time_step = []\n",
        "std_cases = []\n",
        "\n",
        "with open(data_filename) as csvfile:\n",
        "  reader = csv.reader(csvfile, delimiter=',')\n",
        "  next(reader) #do not want to read in header\n",
        "  for row in reader:\n",
        "    std_cases.append(float(row[4])) # column for standard cases\n",
        "    time_step.append(int(row[7])) # column for index\n",
        "\n",
        "series = np.array(std_cases)\n",
        "time = np.array(time_step)"
      ],
      "execution_count": 0,
      "outputs": []
    },
    {
      "cell_type": "code",
      "metadata": {
        "id": "bcZAyQdJUNyr",
        "colab_type": "code",
        "outputId": "79dc0ee0-526c-4783-aeea-aeedbdb040c5",
        "colab": {
          "base_uri": "https://localhost:8080/",
          "height": 36
        }
      },
      "source": [
        "time.shape[0]"
      ],
      "execution_count": 0,
      "outputs": [
        {
          "output_type": "execute_result",
          "data": {
            "text/plain": [
              "62"
            ]
          },
          "metadata": {
            "tags": []
          },
          "execution_count": 5
        }
      ]
    },
    {
      "cell_type": "code",
      "metadata": {
        "id": "ORbfVGVIdEpn",
        "colab_type": "code",
        "outputId": "37897186-5576-45de-80b7-5b2abfb5e4f2",
        "colab": {
          "base_uri": "https://localhost:8080/",
          "height": 166
        }
      },
      "source": [
        "print(series)\n",
        "print(time)"
      ],
      "execution_count": 0,
      "outputs": [
        {
          "output_type": "stream",
          "text": [
            "[ 5.   2.   5.   3.   1.   1.   3.   5.   4.  10.  10.  18.  15.  12.\n",
            " 15.   8.  15.  45.  10.  21.  24.  17.  30.  18.  24.  30.  39.  19.\n",
            " 33.  40.  28.  37.  39.  36.  37.  37.  37.6 49.  34.  47.  47.  53.\n",
            " 41.  59.  41.  37.  54.  38.  55.  46.  58.  48.  58.  63.  57.  73.\n",
            " 52.  57.  49.  42.  57.  58. ]\n",
            "[ 0  1  2  3  4  5  6  7  8  9 10 11 12 13 14 15 16 17 18 19 20 21 22 23\n",
            " 24 25 26 27 28 29 30 31 32 33 34 35 36 37 38 39 40 41 42 43 44 45 46 47\n",
            " 48 49 50 51 52 53 54 55 56 57 58 59 60 61]\n"
          ],
          "name": "stdout"
        }
      ]
    },
    {
      "cell_type": "code",
      "metadata": {
        "id": "m7ayi77cOzB5",
        "colab_type": "code",
        "outputId": "7c224fc4-0c33-4fbb-a585-382ed11b1e02",
        "colab": {
          "base_uri": "https://localhost:8080/",
          "height": 388
        }
      },
      "source": [
        "# plot time series\n",
        "import matplotlib.pyplot as plt\n",
        "def plot_series(time, series, format=\"-\", start=0, end=None):\n",
        "    plt.plot(time[start:end], series[start:end], format)\n",
        "    plt.xlabel(\"Time\")\n",
        "    plt.ylabel(\"Value\")\n",
        "    plt.grid(True)\n",
        "plt.figure(figsize=(10, 6))\n",
        "plot_series(time, series)"
      ],
      "execution_count": 0,
      "outputs": [
        {
          "output_type": "display_data",
          "data": {
            "image/png": "[encoded data removed]",
            "text/plain": [
              "<Figure size 720x432 with 1 Axes>"
            ]
          },
          "metadata": {
            "tags": []
          }
        }
      ]
    },
    {
      "cell_type": "code",
      "metadata": {
        "id": "40Dr2vdlUNyj",
        "colab_type": "code",
        "colab": {}
      },
      "source": [
        "# NOTE: different than biLSTM code\n",
        "def windowed_dataset(series, window_size, batch_size, shuffle_buffer):\n",
        "    series = tf.expand_dims(series, axis=-1)\n",
        "    ds = tf.data.Dataset.from_tensor_slices(series)\n",
        "    ds = ds.window(window_size + 1, shift=1, drop_remainder=True)\n",
        "    ds = ds.flat_map(lambda w: w.batch(window_size + 1))\n",
        "    ds = ds.shuffle(shuffle_buffer)\n",
        "    ds = ds.map(lambda w: (w[:-1], w[1:]))\n",
        "    return ds.batch(batch_size).prefetch(1)"
      ],
      "execution_count": 0,
      "outputs": []
    },
    {
      "cell_type": "code",
      "metadata": {
        "id": "mcAZ_72mPw6V",
        "colab_type": "code",
        "colab": {}
      },
      "source": [
        "def model_forecast(model, series, window_size):\n",
        "    ds = tf.data.Dataset.from_tensor_slices(series)\n",
        "    ds = ds.window(window_size, shift=1, drop_remainder=True)\n",
        "    ds = ds.flat_map(lambda w: w.batch(window_size))\n",
        "    ds = ds.batch(32).prefetch(1)\n",
        "    forecast = model.predict(ds)\n",
        "    return forecast"
      ],
      "execution_count": 0,
      "outputs": []
    },
    {
      "cell_type": "code",
      "metadata": {
        "id": "6RBxC442UNyv",
        "colab_type": "code",
        "colab": {}
      },
      "source": [
        "window_size = 12\n",
        "batch_size = 10\n",
        "shuffle_buffer_size = 30  "
      ],
      "execution_count": 0,
      "outputs": []
    },
    {
      "cell_type": "markdown",
      "metadata": {
        "id": "PcAbYFfnP6Ac",
        "colab_type": "text"
      },
      "source": [
        "## Fixed Partition"
      ]
    },
    {
      "cell_type": "code",
      "metadata": {
        "id": "orLZE-5fP999",
        "colab_type": "code",
        "colab": {}
      },
      "source": [
        "# fixed partition predictions\n",
        "n = time.shape[0]\n",
        "n_fore = 23 # fixed test size\n",
        "\n",
        "split_time = n - n_fore \n",
        "time_train = time[:split_time]\n",
        "x_train = series[:split_time]\n",
        "time_valid = time[split_time:]\n",
        "x_valid = series[split_time:]"
      ],
      "execution_count": 0,
      "outputs": []
    },
    {
      "cell_type": "markdown",
      "metadata": {
        "id": "0vsaf9a3kwvr",
        "colab_type": "text"
      },
      "source": [
        "#### Tune parameters"
      ]
    },
    {
      "cell_type": "code",
      "metadata": {
        "id": "psqM9cThQBDG",
        "colab_type": "code",
        "outputId": "a435a061-c555-4e57-c569-6c6d81f4bccc",
        "colab": {
          "base_uri": "https://localhost:8080/",
          "height": 1000
        }
      },
      "source": [
        "tf.keras.backend.clear_session()\n",
        "tf.random.set_seed(51)\n",
        "np.random.seed(51)\n",
        "\n",
        "train_set = windowed_dataset(x_train, window_size=12, batch_size=30, shuffle_buffer=shuffle_buffer_size)\n",
        "test_set = windowed_dataset(x_valid, window_size=12, batch_size=30, shuffle_buffer=shuffle_buffer_size)\n",
        "\n",
        "model = tf.keras.models.Sequential([\n",
        "  tf.keras.layers.Conv1D(filters=60, kernel_size=5,\n",
        "                      strides=1, padding=\"causal\",\n",
        "                      activation=\"relu\",\n",
        "                      input_shape=[None, 1]),\n",
        "  tf.keras.layers.LSTM(60, return_sequences=True),\n",
        "  tf.keras.layers.LSTM(60, return_sequences=True),\n",
        "  tf.keras.layers.Dense(30, activation=\"relu\"),\n",
        "  tf.keras.layers.Dense(10, activation=\"relu\"),\n",
        "  tf.keras.layers.Dense(1),\n",
        "  tf.keras.layers.Lambda(lambda x: x * 400)\n",
        "])\n",
        "\n",
        "\n",
        "optimizer = tf.keras.optimizers.SGD(lr=1e-5, momentum=0.9)\n",
        "#optimizer = 'adam'\n",
        "model.compile(loss=tf.keras.losses.Huber(),\n",
        "              optimizer=optimizer,\n",
        "              metrics=[\"mae\"])\n",
        "history = model.fit(train_set,epochs=500,validation_data=test_set)"
      ],
      "execution_count": 0,
      "outputs": [
        {
          "output_type": "stream",
          "text": [
            "Epoch 1/500\n",
            "1/1 [==============================] - 2s 2s/step - loss: 26.6344 - mae: 27.1315 - val_loss: 40.4384 - val_mae: 40.9373\n",
            "Epoch 2/500\n",
            "1/1 [==============================] - 0s 42ms/step - loss: 13.3089 - mae: 13.7991 - val_loss: 23.1317 - val_mae: 23.6262\n",
            "Epoch 3/500\n",
            "1/1 [==============================] - 0s 48ms/step - loss: 11.2186 - mae: 11.7022 - val_loss: 19.4855 - val_mae: 19.9811\n",
            "Epoch 4/500\n",
            "1/1 [==============================] - 0s 42ms/step - loss: 16.8372 - mae: 17.3295 - val_loss: 17.9912 - val_mae: 18.4886\n",
            "Epoch 5/500\n",
            "1/1 [==============================] - 0s 43ms/step - loss: 18.1222 - mae: 18.6207 - val_loss: 16.4538 - val_mae: 16.9496\n",
            "Epoch 6/500\n",
            "1/1 [==============================] - 0s 48ms/step - loss: 14.6545 - mae: 15.1515 - val_loss: 22.3648 - val_mae: 22.8629\n",
            "Epoch 7/500\n",
            "1/1 [==============================] - 0s 37ms/step - loss: 8.7247 - mae: 9.2126 - val_loss: 35.2713 - val_mae: 35.7713\n",
            "Epoch 8/500\n",
            "1/1 [==============================] - 0s 43ms/step - loss: 9.7373 - mae: 10.2236 - val_loss: 41.1009 - val_mae: 41.6009\n",
            "Epoch 9/500\n",
            "1/1 [==============================] - 0s 44ms/step - loss: 13.3237 - mae: 13.8166 - val_loss: 38.0985 - val_mae: 38.5985\n",
            "Epoch 10/500\n",
            "1/1 [==============================] - 0s 45ms/step - loss: 11.3526 - mae: 11.8413 - val_loss: 28.7967 - val_mae: 29.2967\n",
            "Epoch 11/500\n",
            "1/1 [==============================] - 0s 38ms/step - loss: 7.2984 - mae: 7.7814 - val_loss: 19.9520 - val_mae: 20.4452\n",
            "Epoch 12/500\n",
            "1/1 [==============================] - 0s 43ms/step - loss: 8.5167 - mae: 9.0066 - val_loss: 16.9425 - val_mae: 17.4358\n",
            "Epoch 13/500\n",
            "1/1 [==============================] - 0s 42ms/step - loss: 9.8084 - mae: 10.2971 - val_loss: 17.0004 - val_mae: 17.4937\n",
            "Epoch 14/500\n",
            "1/1 [==============================] - 0s 48ms/step - loss: 8.9253 - mae: 9.4114 - val_loss: 19.4794 - val_mae: 19.9769\n",
            "Epoch 15/500\n",
            "1/1 [==============================] - 0s 59ms/step - loss: 7.1310 - mae: 7.6163 - val_loss: 23.8223 - val_mae: 24.3223\n",
            "Epoch 16/500\n",
            "1/1 [==============================] - 0s 47ms/step - loss: 6.9690 - mae: 7.4425 - val_loss: 26.7638 - val_mae: 27.2608\n",
            "Epoch 17/500\n",
            "1/1 [==============================] - 0s 47ms/step - loss: 7.7619 - mae: 8.2499 - val_loss: 26.5639 - val_mae: 27.0637\n",
            "Epoch 18/500\n",
            "1/1 [==============================] - 0s 40ms/step - loss: 7.2446 - mae: 7.7317 - val_loss: 24.2924 - val_mae: 24.7924\n",
            "Epoch 19/500\n",
            "1/1 [==============================] - 0s 45ms/step - loss: 6.4101 - mae: 6.8903 - val_loss: 21.6969 - val_mae: 22.1930\n",
            "Epoch 20/500\n",
            "1/1 [==============================] - 0s 41ms/step - loss: 6.5950 - mae: 7.0711 - val_loss: 20.2128 - val_mae: 20.7109\n",
            "Epoch 21/500\n",
            "1/1 [==============================] - 0s 46ms/step - loss: 7.0195 - mae: 7.5003 - val_loss: 20.2441 - val_mae: 20.7408\n",
            "Epoch 22/500\n",
            "1/1 [==============================] - 0s 40ms/step - loss: 7.0222 - mae: 7.5076 - val_loss: 21.4523 - val_mae: 21.9495\n",
            "Epoch 23/500\n",
            "1/1 [==============================] - 0s 42ms/step - loss: 6.7263 - mae: 7.2113 - val_loss: 23.0756 - val_mae: 23.5720\n",
            "Epoch 24/500\n",
            "1/1 [==============================] - 0s 45ms/step - loss: 6.5276 - mae: 7.0103 - val_loss: 23.8376 - val_mae: 24.3326\n",
            "Epoch 25/500\n",
            "1/1 [==============================] - 0s 46ms/step - loss: 6.5302 - mae: 7.0192 - val_loss: 23.1163 - val_mae: 23.6116\n",
            "Epoch 26/500\n",
            "1/1 [==============================] - 0s 45ms/step - loss: 6.3721 - mae: 6.8551 - val_loss: 21.1629 - val_mae: 21.6628\n",
            "Epoch 27/500\n",
            "1/1 [==============================] - 0s 42ms/step - loss: 6.0971 - mae: 6.5797 - val_loss: 19.1328 - val_mae: 19.6308\n",
            "Epoch 28/500\n",
            "1/1 [==============================] - 0s 54ms/step - loss: 6.1248 - mae: 6.6116 - val_loss: 18.1698 - val_mae: 18.6638\n",
            "Epoch 29/500\n",
            "1/1 [==============================] - 0s 46ms/step - loss: 6.1856 - mae: 6.6675 - val_loss: 18.5342 - val_mae: 19.0304\n",
            "Epoch 30/500\n",
            "1/1 [==============================] - 0s 41ms/step - loss: 5.9743 - mae: 6.4580 - val_loss: 19.6265 - val_mae: 20.1235\n",
            "Epoch 31/500\n",
            "1/1 [==============================] - 0s 41ms/step - loss: 5.8356 - mae: 6.3190 - val_loss: 20.0980 - val_mae: 20.5953\n",
            "Epoch 32/500\n",
            "1/1 [==============================] - 0s 39ms/step - loss: 5.8835 - mae: 6.3694 - val_loss: 19.2754 - val_mae: 19.7740\n",
            "Epoch 33/500\n",
            "1/1 [==============================] - 0s 44ms/step - loss: 5.7227 - mae: 6.2074 - val_loss: 17.6750 - val_mae: 18.1688\n",
            "Epoch 34/500\n",
            "1/1 [==============================] - 0s 46ms/step - loss: 5.5951 - mae: 6.0646 - val_loss: 16.6318 - val_mae: 17.1305\n",
            "Epoch 35/500\n",
            "1/1 [==============================] - 0s 37ms/step - loss: 5.6958 - mae: 6.1747 - val_loss: 16.8064 - val_mae: 17.3063\n",
            "Epoch 36/500\n",
            "1/1 [==============================] - 0s 43ms/step - loss: 5.6345 - mae: 6.1101 - val_loss: 17.8335 - val_mae: 18.3290\n",
            "Epoch 37/500\n",
            "1/1 [==============================] - 0s 39ms/step - loss: 5.5603 - mae: 6.0384 - val_loss: 18.6554 - val_mae: 19.1516\n",
            "Epoch 38/500\n",
            "1/1 [==============================] - 0s 41ms/step - loss: 5.6137 - mae: 6.0914 - val_loss: 18.5364 - val_mae: 19.0354\n",
            "Epoch 39/500\n",
            "1/1 [==============================] - 0s 43ms/step - loss: 5.5649 - mae: 6.0425 - val_loss: 17.6351 - val_mae: 18.1344\n",
            "Epoch 40/500\n",
            "1/1 [==============================] - 0s 40ms/step - loss: 5.4569 - mae: 5.9268 - val_loss: 16.8835 - val_mae: 17.3832\n",
            "Epoch 41/500\n",
            "1/1 [==============================] - 0s 41ms/step - loss: 5.4796 - mae: 5.9552 - val_loss: 16.9924 - val_mae: 17.4923\n",
            "Epoch 42/500\n",
            "1/1 [==============================] - 0s 44ms/step - loss: 5.4443 - mae: 5.9200 - val_loss: 17.8835 - val_mae: 18.3818\n",
            "Epoch 43/500\n",
            "1/1 [==============================] - 0s 48ms/step - loss: 5.3599 - mae: 5.8345 - val_loss: 18.8398 - val_mae: 19.3338\n",
            "Epoch 44/500\n",
            "1/1 [==============================] - 0s 46ms/step - loss: 5.3762 - mae: 5.8506 - val_loss: 19.0093 - val_mae: 19.5022\n",
            "Epoch 45/500\n",
            "1/1 [==============================] - 0s 53ms/step - loss: 5.3503 - mae: 5.8239 - val_loss: 18.4626 - val_mae: 18.9621\n",
            "Epoch 46/500\n",
            "1/1 [==============================] - 0s 44ms/step - loss: 5.2860 - mae: 5.7626 - val_loss: 18.0639 - val_mae: 18.5610\n",
            "Epoch 47/500\n",
            "1/1 [==============================] - 0s 45ms/step - loss: 5.3041 - mae: 5.7685 - val_loss: 18.4703 - val_mae: 18.9678\n",
            "Epoch 48/500\n",
            "1/1 [==============================] - 0s 45ms/step - loss: 5.2582 - mae: 5.7254 - val_loss: 19.3513 - val_mae: 19.8449\n",
            "Epoch 49/500\n",
            "1/1 [==============================] - 0s 49ms/step - loss: 5.2322 - mae: 5.6996 - val_loss: 19.7685 - val_mae: 20.2657\n",
            "Epoch 50/500\n",
            "1/1 [==============================] - 0s 64ms/step - loss: 5.2376 - mae: 5.7131 - val_loss: 19.3651 - val_mae: 19.8584\n",
            "Epoch 51/500\n",
            "1/1 [==============================] - 0s 41ms/step - loss: 5.1873 - mae: 5.6508 - val_loss: 18.6647 - val_mae: 19.1590\n",
            "Epoch 52/500\n",
            "1/1 [==============================] - 0s 39ms/step - loss: 5.1705 - mae: 5.6442 - val_loss: 18.4847 - val_mae: 18.9797\n",
            "Epoch 53/500\n",
            "1/1 [==============================] - 0s 38ms/step - loss: 5.1524 - mae: 5.6261 - val_loss: 18.8605 - val_mae: 19.3543\n",
            "Epoch 54/500\n",
            "1/1 [==============================] - 0s 47ms/step - loss: 5.1095 - mae: 5.5693 - val_loss: 19.0684 - val_mae: 19.5609\n",
            "Epoch 55/500\n",
            "1/1 [==============================] - 0s 43ms/step - loss: 5.1073 - mae: 5.5665 - val_loss: 18.6180 - val_mae: 19.1151\n",
            "Epoch 56/500\n",
            "1/1 [==============================] - 0s 46ms/step - loss: 5.0667 - mae: 5.5267 - val_loss: 18.0254 - val_mae: 18.5240\n",
            "Epoch 57/500\n",
            "1/1 [==============================] - 0s 43ms/step - loss: 5.0550 - mae: 5.5161 - val_loss: 17.9342 - val_mae: 18.4337\n",
            "Epoch 58/500\n",
            "1/1 [==============================] - 0s 43ms/step - loss: 5.0291 - mae: 5.4862 - val_loss: 18.1849 - val_mae: 18.6830\n",
            "Epoch 59/500\n",
            "1/1 [==============================] - 0s 43ms/step - loss: 5.0133 - mae: 5.4699 - val_loss: 18.0786 - val_mae: 18.5776\n",
            "Epoch 60/500\n",
            "1/1 [==============================] - 0s 43ms/step - loss: 5.0014 - mae: 5.4575 - val_loss: 17.6477 - val_mae: 18.1477\n",
            "Epoch 61/500\n",
            "1/1 [==============================] - 0s 43ms/step - loss: 4.9832 - mae: 5.4453 - val_loss: 17.5503 - val_mae: 18.0503\n",
            "Epoch 62/500\n",
            "1/1 [==============================] - 0s 47ms/step - loss: 4.9754 - mae: 5.4421 - val_loss: 17.8898 - val_mae: 18.3897\n",
            "Epoch 63/500\n",
            "1/1 [==============================] - 0s 48ms/step - loss: 4.9540 - mae: 5.4092 - val_loss: 18.0938 - val_mae: 18.5931\n",
            "Epoch 64/500\n",
            "1/1 [==============================] - 0s 44ms/step - loss: 4.9480 - mae: 5.4025 - val_loss: 17.9300 - val_mae: 18.4299\n",
            "Epoch 65/500\n",
            "1/1 [==============================] - 0s 47ms/step - loss: 4.9262 - mae: 5.3868 - val_loss: 17.8031 - val_mae: 18.3031\n",
            "Epoch 66/500\n",
            "1/1 [==============================] - 0s 40ms/step - loss: 4.9207 - mae: 5.3853 - val_loss: 18.0251 - val_mae: 18.5248\n",
            "Epoch 67/500\n",
            "1/1 [==============================] - 0s 47ms/step - loss: 4.9026 - mae: 5.3686 - val_loss: 18.3063 - val_mae: 18.8023\n",
            "Epoch 68/500\n",
            "1/1 [==============================] - 0s 41ms/step - loss: 4.8963 - mae: 5.3637 - val_loss: 18.2587 - val_mae: 18.7551\n",
            "Epoch 69/500\n",
            "1/1 [==============================] - 0s 46ms/step - loss: 4.8818 - mae: 5.3514 - val_loss: 18.0532 - val_mae: 18.5520\n",
            "Epoch 70/500\n",
            "1/1 [==============================] - 0s 54ms/step - loss: 4.8727 - mae: 5.3384 - val_loss: 18.0741 - val_mae: 18.5723\n",
            "Epoch 71/500\n",
            "1/1 [==============================] - 0s 51ms/step - loss: 4.8611 - mae: 5.3272 - val_loss: 18.2713 - val_mae: 18.7657\n",
            "Epoch 72/500\n",
            "1/1 [==============================] - 0s 47ms/step - loss: 4.8485 - mae: 5.3192 - val_loss: 18.2588 - val_mae: 18.7530\n",
            "Epoch 73/500\n",
            "1/1 [==============================] - 0s 46ms/step - loss: 4.8374 - mae: 5.3077 - val_loss: 17.9983 - val_mae: 18.4965\n",
            "Epoch 74/500\n",
            "1/1 [==============================] - 0s 37ms/step - loss: 4.8229 - mae: 5.2905 - val_loss: 17.8582 - val_mae: 18.3577\n",
            "Epoch 75/500\n",
            "1/1 [==============================] - 0s 42ms/step - loss: 4.8116 - mae: 5.2763 - val_loss: 17.9190 - val_mae: 18.4179\n",
            "Epoch 76/500\n",
            "1/1 [==============================] - 0s 44ms/step - loss: 4.7975 - mae: 5.2644 - val_loss: 17.8672 - val_mae: 18.3664\n",
            "Epoch 77/500\n",
            "1/1 [==============================] - 0s 40ms/step - loss: 4.7874 - mae: 5.2531 - val_loss: 17.6228 - val_mae: 18.1228\n",
            "Epoch 78/500\n",
            "1/1 [==============================] - 0s 45ms/step - loss: 4.7751 - mae: 5.2353 - val_loss: 17.4881 - val_mae: 17.9881\n",
            "Epoch 79/500\n",
            "1/1 [==============================] - 0s 41ms/step - loss: 4.7660 - mae: 5.2218 - val_loss: 17.5483 - val_mae: 18.0483\n",
            "Epoch 80/500\n",
            "1/1 [==============================] - 0s 41ms/step - loss: 4.7543 - mae: 5.2129 - val_loss: 17.5673 - val_mae: 18.0672\n",
            "Epoch 81/500\n",
            "1/1 [==============================] - 0s 48ms/step - loss: 4.7449 - mae: 5.2057 - val_loss: 17.4456 - val_mae: 17.9449\n",
            "Epoch 82/500\n",
            "1/1 [==============================] - 0s 45ms/step - loss: 4.7330 - mae: 5.1882 - val_loss: 17.3846 - val_mae: 17.8831\n",
            "Epoch 83/500\n",
            "1/1 [==============================] - 0s 50ms/step - loss: 4.7228 - mae: 5.1758 - val_loss: 17.4865 - val_mae: 17.9856\n",
            "Epoch 84/500\n",
            "1/1 [==============================] - 0s 46ms/step - loss: 4.7102 - mae: 5.1668 - val_loss: 17.5789 - val_mae: 18.0780\n",
            "Epoch 85/500\n",
            "1/1 [==============================] - 0s 44ms/step - loss: 4.6994 - mae: 5.1595 - val_loss: 17.5428 - val_mae: 18.0416\n",
            "Epoch 86/500\n",
            "1/1 [==============================] - 0s 42ms/step - loss: 4.6876 - mae: 5.1446 - val_loss: 17.5200 - val_mae: 18.0182\n",
            "Epoch 87/500\n",
            "1/1 [==============================] - 0s 45ms/step - loss: 4.6774 - mae: 5.1324 - val_loss: 17.5994 - val_mae: 18.0973\n",
            "Epoch 88/500\n",
            "1/1 [==============================] - 0s 50ms/step - loss: 4.6662 - mae: 5.1249 - val_loss: 17.6359 - val_mae: 18.1333\n",
            "Epoch 89/500\n",
            "1/1 [==============================] - 0s 42ms/step - loss: 4.6559 - mae: 5.1162 - val_loss: 17.5538 - val_mae: 18.0504\n",
            "Epoch 90/500\n",
            "1/1 [==============================] - 0s 40ms/step - loss: 4.6446 - mae: 5.1016 - val_loss: 17.5015 - val_mae: 17.9968\n",
            "Epoch 91/500\n",
            "1/1 [==============================] - 0s 42ms/step - loss: 4.6340 - mae: 5.0902 - val_loss: 17.5256 - val_mae: 18.0203\n",
            "Epoch 92/500\n",
            "1/1 [==============================] - 0s 40ms/step - loss: 4.6233 - mae: 5.0812 - val_loss: 17.4987 - val_mae: 17.9921\n",
            "Epoch 93/500\n",
            "1/1 [==============================] - 0s 39ms/step - loss: 4.6133 - mae: 5.0715 - val_loss: 17.4198 - val_mae: 17.9107\n",
            "Epoch 94/500\n",
            "1/1 [==============================] - 0s 54ms/step - loss: 4.6034 - mae: 5.0609 - val_loss: 17.4077 - val_mae: 17.8983\n",
            "Epoch 95/500\n",
            "1/1 [==============================] - 0s 45ms/step - loss: 4.5936 - mae: 5.0513 - val_loss: 17.4504 - val_mae: 17.9404\n",
            "Epoch 96/500\n",
            "1/1 [==============================] - 0s 49ms/step - loss: 4.5840 - mae: 5.0419 - val_loss: 17.4426 - val_mae: 17.9321\n",
            "Epoch 97/500\n",
            "1/1 [==============================] - 0s 48ms/step - loss: 4.5744 - mae: 5.0320 - val_loss: 17.4093 - val_mae: 17.8982\n",
            "Epoch 98/500\n",
            "1/1 [==============================] - 0s 38ms/step - loss: 4.5650 - mae: 5.0222 - val_loss: 17.4345 - val_mae: 17.9226\n",
            "Epoch 99/500\n",
            "1/1 [==============================] - 0s 44ms/step - loss: 4.5557 - mae: 5.0128 - val_loss: 17.4592 - val_mae: 17.9471\n",
            "Epoch 100/500\n",
            "1/1 [==============================] - 0s 44ms/step - loss: 4.5467 - mae: 5.0033 - val_loss: 17.4130 - val_mae: 17.9006\n",
            "Epoch 101/500\n",
            "1/1 [==============================] - 0s 44ms/step - loss: 4.5372 - mae: 4.9936 - val_loss: 17.3666 - val_mae: 17.8554\n",
            "Epoch 102/500\n",
            "1/1 [==============================] - 0s 37ms/step - loss: 4.5280 - mae: 4.9841 - val_loss: 17.3684 - val_mae: 17.8576\n",
            "Epoch 103/500\n",
            "1/1 [==============================] - 0s 41ms/step - loss: 4.5187 - mae: 4.9746 - val_loss: 17.3590 - val_mae: 17.8491\n",
            "Epoch 104/500\n",
            "1/1 [==============================] - 0s 40ms/step - loss: 4.5094 - mae: 4.9652 - val_loss: 17.3217 - val_mae: 17.8130\n",
            "Epoch 105/500\n",
            "1/1 [==============================] - 0s 42ms/step - loss: 4.4998 - mae: 4.9552 - val_loss: 17.3181 - val_mae: 17.8101\n",
            "Epoch 106/500\n",
            "1/1 [==============================] - 0s 45ms/step - loss: 4.4902 - mae: 4.9455 - val_loss: 17.3526 - val_mae: 17.8449\n",
            "Epoch 107/500\n",
            "1/1 [==============================] - 0s 43ms/step - loss: 4.4805 - mae: 4.9364 - val_loss: 17.3556 - val_mae: 17.8484\n",
            "Epoch 108/500\n",
            "1/1 [==============================] - 0s 48ms/step - loss: 4.4708 - mae: 4.9267 - val_loss: 17.3360 - val_mae: 17.8295\n",
            "Epoch 109/500\n",
            "1/1 [==============================] - 0s 43ms/step - loss: 4.4612 - mae: 4.9168 - val_loss: 17.3509 - val_mae: 17.8447\n",
            "Epoch 110/500\n",
            "1/1 [==============================] - 0s 61ms/step - loss: 4.4516 - mae: 4.9072 - val_loss: 17.3788 - val_mae: 17.8726\n",
            "Epoch 111/500\n",
            "1/1 [==============================] - 0s 56ms/step - loss: 4.4422 - mae: 4.8981 - val_loss: 17.3589 - val_mae: 17.8533\n",
            "Epoch 112/500\n",
            "1/1 [==============================] - 0s 58ms/step - loss: 4.4325 - mae: 4.8880 - val_loss: 17.3348 - val_mae: 17.8298\n",
            "Epoch 113/500\n",
            "1/1 [==============================] - 0s 59ms/step - loss: 4.4230 - mae: 4.8780 - val_loss: 17.3488 - val_mae: 17.8440\n",
            "Epoch 114/500\n",
            "1/1 [==============================] - 0s 58ms/step - loss: 4.4136 - mae: 4.8691 - val_loss: 17.3664 - val_mae: 17.8617\n",
            "Epoch 115/500\n",
            "1/1 [==============================] - 0s 71ms/step - loss: 4.4040 - mae: 4.8597 - val_loss: 17.3595 - val_mae: 17.8550\n",
            "Epoch 116/500\n",
            "1/1 [==============================] - 0s 55ms/step - loss: 4.3939 - mae: 4.8492 - val_loss: 17.3602 - val_mae: 17.8558\n",
            "Epoch 117/500\n",
            "1/1 [==============================] - 0s 56ms/step - loss: 4.3835 - mae: 4.8387 - val_loss: 17.3806 - val_mae: 17.8760\n",
            "Epoch 118/500\n",
            "1/1 [==============================] - 0s 58ms/step - loss: 4.3728 - mae: 4.8284 - val_loss: 17.3750 - val_mae: 17.8704\n",
            "Epoch 119/500\n",
            "1/1 [==============================] - 0s 45ms/step - loss: 4.3622 - mae: 4.8175 - val_loss: 17.3459 - val_mae: 17.8416\n",
            "Epoch 120/500\n",
            "1/1 [==============================] - 0s 58ms/step - loss: 4.3514 - mae: 4.8060 - val_loss: 17.3383 - val_mae: 17.8340\n",
            "Epoch 121/500\n",
            "1/1 [==============================] - 0s 56ms/step - loss: 4.3405 - mae: 4.7948 - val_loss: 17.3435 - val_mae: 17.8390\n",
            "Epoch 122/500\n",
            "1/1 [==============================] - 0s 50ms/step - loss: 4.3297 - mae: 4.7840 - val_loss: 17.3301 - val_mae: 17.8254\n",
            "Epoch 123/500\n",
            "1/1 [==============================] - 0s 43ms/step - loss: 4.3191 - mae: 4.7729 - val_loss: 17.3147 - val_mae: 17.8098\n",
            "Epoch 124/500\n",
            "1/1 [==============================] - 0s 39ms/step - loss: 4.3083 - mae: 4.7614 - val_loss: 17.3179 - val_mae: 17.8127\n",
            "Epoch 125/500\n",
            "1/1 [==============================] - 0s 44ms/step - loss: 4.2976 - mae: 4.7504 - val_loss: 17.3218 - val_mae: 17.8162\n",
            "Epoch 126/500\n",
            "1/1 [==============================] - 0s 49ms/step - loss: 4.2867 - mae: 4.7391 - val_loss: 17.3058 - val_mae: 17.7998\n",
            "Epoch 127/500\n",
            "1/1 [==============================] - 0s 47ms/step - loss: 4.2755 - mae: 4.7273 - val_loss: 17.3079 - val_mae: 17.8013\n",
            "Epoch 128/500\n",
            "1/1 [==============================] - 0s 44ms/step - loss: 4.2643 - mae: 4.7157 - val_loss: 17.3268 - val_mae: 17.8197\n",
            "Epoch 129/500\n",
            "1/1 [==============================] - 0s 41ms/step - loss: 4.2531 - mae: 4.7042 - val_loss: 17.3180 - val_mae: 17.8106\n",
            "Epoch 130/500\n",
            "1/1 [==============================] - 0s 41ms/step - loss: 4.2423 - mae: 4.6925 - val_loss: 17.2864 - val_mae: 17.7790\n",
            "Epoch 131/500\n",
            "1/1 [==============================] - 0s 44ms/step - loss: 4.2317 - mae: 4.6808 - val_loss: 17.2723 - val_mae: 17.7651\n",
            "Epoch 132/500\n",
            "1/1 [==============================] - 0s 39ms/step - loss: 4.2218 - mae: 4.6696 - val_loss: 17.2578 - val_mae: 17.7510\n",
            "Epoch 133/500\n",
            "1/1 [==============================] - 0s 42ms/step - loss: 4.2122 - mae: 4.6587 - val_loss: 17.2282 - val_mae: 17.7221\n",
            "Epoch 134/500\n",
            "1/1 [==============================] - 0s 42ms/step - loss: 4.2027 - mae: 4.6477 - val_loss: 17.2021 - val_mae: 17.6964\n",
            "Epoch 135/500\n",
            "1/1 [==============================] - 0s 51ms/step - loss: 4.1934 - mae: 4.6371 - val_loss: 17.1896 - val_mae: 17.6841\n",
            "Epoch 136/500\n",
            "1/1 [==============================] - 0s 41ms/step - loss: 4.1843 - mae: 4.6271 - val_loss: 17.1656 - val_mae: 17.6605\n",
            "Epoch 137/500\n",
            "1/1 [==============================] - 0s 47ms/step - loss: 4.1753 - mae: 4.6179 - val_loss: 17.1492 - val_mae: 17.6444\n",
            "Epoch 138/500\n",
            "1/1 [==============================] - 0s 43ms/step - loss: 4.1665 - mae: 4.6088 - val_loss: 17.1548 - val_mae: 17.6501\n",
            "Epoch 139/500\n",
            "1/1 [==============================] - 0s 45ms/step - loss: 4.1579 - mae: 4.5997 - val_loss: 17.1567 - val_mae: 17.6521\n",
            "Epoch 140/500\n",
            "1/1 [==============================] - 0s 46ms/step - loss: 4.1494 - mae: 4.5904 - val_loss: 17.1506 - val_mae: 17.6462\n",
            "Epoch 141/500\n",
            "1/1 [==============================] - 0s 43ms/step - loss: 4.1410 - mae: 4.5811 - val_loss: 17.1579 - val_mae: 17.6535\n",
            "Epoch 142/500\n",
            "1/1 [==============================] - 0s 48ms/step - loss: 4.1330 - mae: 4.5724 - val_loss: 17.1739 - val_mae: 17.6693\n",
            "Epoch 143/500\n",
            "1/1 [==============================] - 0s 47ms/step - loss: 4.1253 - mae: 4.5645 - val_loss: 17.1741 - val_mae: 17.6697\n",
            "Epoch 144/500\n",
            "1/1 [==============================] - 0s 44ms/step - loss: 4.1177 - mae: 4.5566 - val_loss: 17.1826 - val_mae: 17.6782\n",
            "Epoch 145/500\n",
            "1/1 [==============================] - 0s 45ms/step - loss: 4.1102 - mae: 4.5494 - val_loss: 17.1899 - val_mae: 17.6854\n",
            "Epoch 146/500\n",
            "1/1 [==============================] - 0s 45ms/step - loss: 4.1028 - mae: 4.5425 - val_loss: 17.1752 - val_mae: 17.6710\n",
            "Epoch 147/500\n",
            "1/1 [==============================] - 0s 40ms/step - loss: 4.0955 - mae: 4.5352 - val_loss: 17.1641 - val_mae: 17.6602\n",
            "Epoch 148/500\n",
            "1/1 [==============================] - 0s 46ms/step - loss: 4.0883 - mae: 4.5282 - val_loss: 17.1632 - val_mae: 17.6592\n",
            "Epoch 149/500\n",
            "1/1 [==============================] - 0s 57ms/step - loss: 4.0812 - mae: 4.5216 - val_loss: 17.1495 - val_mae: 17.6457\n",
            "Epoch 150/500\n",
            "1/1 [==============================] - 0s 50ms/step - loss: 4.0740 - mae: 4.5145 - val_loss: 17.1445 - val_mae: 17.6408\n",
            "Epoch 151/500\n",
            "1/1 [==============================] - 0s 47ms/step - loss: 4.0668 - mae: 4.5076 - val_loss: 17.1548 - val_mae: 17.6509\n",
            "Epoch 152/500\n",
            "1/1 [==============================] - 0s 53ms/step - loss: 4.0598 - mae: 4.5010 - val_loss: 17.1490 - val_mae: 17.6451\n",
            "Epoch 153/500\n",
            "1/1 [==============================] - 0s 46ms/step - loss: 4.0525 - mae: 4.4940 - val_loss: 17.1374 - val_mae: 17.6336\n",
            "Epoch 154/500\n",
            "1/1 [==============================] - 0s 53ms/step - loss: 4.0453 - mae: 4.4870 - val_loss: 17.1422 - val_mae: 17.6383\n",
            "Epoch 155/500\n",
            "1/1 [==============================] - 0s 38ms/step - loss: 4.0382 - mae: 4.4805 - val_loss: 17.1407 - val_mae: 17.6367\n",
            "Epoch 156/500\n",
            "1/1 [==============================] - 0s 38ms/step - loss: 4.0311 - mae: 4.4739 - val_loss: 17.1231 - val_mae: 17.6192\n",
            "Epoch 157/500\n",
            "1/1 [==============================] - 0s 51ms/step - loss: 4.0238 - mae: 4.4667 - val_loss: 17.1203 - val_mae: 17.6164\n",
            "Epoch 158/500\n",
            "1/1 [==============================] - 0s 40ms/step - loss: 4.0165 - mae: 4.4598 - val_loss: 17.1220 - val_mae: 17.6180\n",
            "Epoch 159/500\n",
            "1/1 [==============================] - 0s 46ms/step - loss: 4.0092 - mae: 4.4532 - val_loss: 17.1115 - val_mae: 17.6076\n",
            "Epoch 160/500\n",
            "1/1 [==============================] - 0s 47ms/step - loss: 4.0020 - mae: 4.4463 - val_loss: 17.1057 - val_mae: 17.6017\n",
            "Epoch 161/500\n",
            "1/1 [==============================] - 0s 46ms/step - loss: 3.9949 - mae: 4.4395 - val_loss: 17.0999 - val_mae: 17.5960\n",
            "Epoch 162/500\n",
            "1/1 [==============================] - 0s 44ms/step - loss: 3.9878 - mae: 4.4329 - val_loss: 17.0750 - val_mae: 17.5714\n",
            "Epoch 163/500\n",
            "1/1 [==============================] - 0s 46ms/step - loss: 3.9806 - mae: 4.4259 - val_loss: 17.0525 - val_mae: 17.5490\n",
            "Epoch 164/500\n",
            "1/1 [==============================] - 0s 40ms/step - loss: 3.9735 - mae: 4.4186 - val_loss: 17.0582 - val_mae: 17.5545\n",
            "Epoch 165/500\n",
            "1/1 [==============================] - 0s 46ms/step - loss: 3.9662 - mae: 4.4119 - val_loss: 17.0498 - val_mae: 17.5461\n",
            "Epoch 166/500\n",
            "1/1 [==============================] - 0s 42ms/step - loss: 3.9589 - mae: 4.4045 - val_loss: 17.0287 - val_mae: 17.5252\n",
            "Epoch 167/500\n",
            "1/1 [==============================] - 0s 43ms/step - loss: 3.9518 - mae: 4.3971 - val_loss: 17.0192 - val_mae: 17.5157\n",
            "Epoch 168/500\n",
            "1/1 [==============================] - 0s 41ms/step - loss: 3.9446 - mae: 4.3902 - val_loss: 17.0033 - val_mae: 17.5001\n",
            "Epoch 169/500\n",
            "1/1 [==============================] - 0s 44ms/step - loss: 3.9375 - mae: 4.3832 - val_loss: 16.9718 - val_mae: 17.4689\n",
            "Epoch 170/500\n",
            "1/1 [==============================] - 0s 45ms/step - loss: 3.9305 - mae: 4.3760 - val_loss: 16.9620 - val_mae: 17.4592\n",
            "Epoch 171/500\n",
            "1/1 [==============================] - 0s 45ms/step - loss: 3.9235 - mae: 4.3693 - val_loss: 16.9551 - val_mae: 17.4523\n",
            "Epoch 172/500\n",
            "1/1 [==============================] - 0s 52ms/step - loss: 3.9167 - mae: 4.3628 - val_loss: 16.9324 - val_mae: 17.4298\n",
            "Epoch 173/500\n",
            "1/1 [==============================] - 0s 54ms/step - loss: 3.9098 - mae: 4.3557 - val_loss: 16.9298 - val_mae: 17.4272\n",
            "Epoch 174/500\n",
            "1/1 [==============================] - 0s 49ms/step - loss: 3.9032 - mae: 4.3491 - val_loss: 16.9335 - val_mae: 17.4307\n",
            "Epoch 175/500\n",
            "1/1 [==============================] - 0s 40ms/step - loss: 3.8967 - mae: 4.3426 - val_loss: 16.9284 - val_mae: 17.4256\n",
            "Epoch 176/500\n",
            "1/1 [==============================] - 0s 44ms/step - loss: 3.8903 - mae: 4.3359 - val_loss: 16.9330 - val_mae: 17.4300\n",
            "Epoch 177/500\n",
            "1/1 [==============================] - 0s 40ms/step - loss: 3.8841 - mae: 4.3294 - val_loss: 16.9370 - val_mae: 17.4340\n",
            "Epoch 178/500\n",
            "1/1 [==============================] - 0s 45ms/step - loss: 3.8780 - mae: 4.3231 - val_loss: 16.9165 - val_mae: 17.4137\n",
            "Epoch 179/500\n",
            "1/1 [==============================] - 0s 49ms/step - loss: 3.8720 - mae: 4.3166 - val_loss: 16.8964 - val_mae: 17.3938\n",
            "Epoch 180/500\n",
            "1/1 [==============================] - 0s 53ms/step - loss: 3.8659 - mae: 4.3100 - val_loss: 16.8869 - val_mae: 17.3843\n",
            "Epoch 181/500\n",
            "1/1 [==============================] - 0s 47ms/step - loss: 3.8601 - mae: 4.3039 - val_loss: 16.8697 - val_mae: 17.3672\n",
            "Epoch 182/500\n",
            "1/1 [==============================] - 0s 46ms/step - loss: 3.8544 - mae: 4.2978 - val_loss: 16.8616 - val_mae: 17.3590\n",
            "Epoch 183/500\n",
            "1/1 [==============================] - 0s 47ms/step - loss: 3.8490 - mae: 4.2920 - val_loss: 16.8685 - val_mae: 17.3657\n",
            "Epoch 184/500\n",
            "1/1 [==============================] - 0s 45ms/step - loss: 3.8436 - mae: 4.2865 - val_loss: 16.8636 - val_mae: 17.3606\n",
            "Epoch 185/500\n",
            "1/1 [==============================] - 0s 43ms/step - loss: 3.8385 - mae: 4.2810 - val_loss: 16.8554 - val_mae: 17.3523\n",
            "Epoch 186/500\n",
            "1/1 [==============================] - 0s 48ms/step - loss: 3.8334 - mae: 4.2755 - val_loss: 16.8534 - val_mae: 17.3502\n",
            "Epoch 187/500\n",
            "1/1 [==============================] - 0s 53ms/step - loss: 3.8283 - mae: 4.2702 - val_loss: 16.8485 - val_mae: 17.3453\n",
            "Epoch 188/500\n",
            "1/1 [==============================] - 0s 53ms/step - loss: 3.8233 - mae: 4.2650 - val_loss: 16.8365 - val_mae: 17.3332\n",
            "Epoch 189/500\n",
            "1/1 [==============================] - 0s 49ms/step - loss: 3.8184 - mae: 4.2597 - val_loss: 16.8313 - val_mae: 17.3280\n",
            "Epoch 190/500\n",
            "1/1 [==============================] - 0s 47ms/step - loss: 3.8135 - mae: 4.2545 - val_loss: 16.8232 - val_mae: 17.3198\n",
            "Epoch 191/500\n",
            "1/1 [==============================] - 0s 47ms/step - loss: 3.8086 - mae: 4.2493 - val_loss: 16.8158 - val_mae: 17.3122\n",
            "Epoch 192/500\n",
            "1/1 [==============================] - 0s 54ms/step - loss: 3.8038 - mae: 4.2443 - val_loss: 16.8154 - val_mae: 17.3117\n",
            "Epoch 193/500\n",
            "1/1 [==============================] - 0s 37ms/step - loss: 3.7990 - mae: 4.2392 - val_loss: 16.8068 - val_mae: 17.3029\n",
            "Epoch 194/500\n",
            "1/1 [==============================] - 0s 41ms/step - loss: 3.7943 - mae: 4.2342 - val_loss: 16.8023 - val_mae: 17.2982\n",
            "Epoch 195/500\n",
            "1/1 [==============================] - 0s 46ms/step - loss: 3.7896 - mae: 4.2292 - val_loss: 16.7909 - val_mae: 17.2867\n",
            "Epoch 196/500\n",
            "1/1 [==============================] - 0s 41ms/step - loss: 3.7851 - mae: 4.2244 - val_loss: 16.7894 - val_mae: 17.2850\n",
            "Epoch 197/500\n",
            "1/1 [==============================] - 0s 43ms/step - loss: 3.7806 - mae: 4.2196 - val_loss: 16.7901 - val_mae: 17.2854\n",
            "Epoch 198/500\n",
            "1/1 [==============================] - 0s 45ms/step - loss: 3.7762 - mae: 4.2149 - val_loss: 16.7892 - val_mae: 17.2843\n",
            "Epoch 199/500\n",
            "1/1 [==============================] - 0s 52ms/step - loss: 3.7718 - mae: 4.2104 - val_loss: 16.7902 - val_mae: 17.2850\n",
            "Epoch 200/500\n",
            "1/1 [==============================] - 0s 51ms/step - loss: 3.7675 - mae: 4.2060 - val_loss: 16.7995 - val_mae: 17.2941\n",
            "Epoch 201/500\n",
            "1/1 [==============================] - 0s 46ms/step - loss: 3.7633 - mae: 4.2016 - val_loss: 16.8001 - val_mae: 17.2944\n",
            "Epoch 202/500\n",
            "1/1 [==============================] - 0s 42ms/step - loss: 3.7591 - mae: 4.1971 - val_loss: 16.7940 - val_mae: 17.2882\n",
            "Epoch 203/500\n",
            "1/1 [==============================] - 0s 43ms/step - loss: 3.7548 - mae: 4.1925 - val_loss: 16.7989 - val_mae: 17.2929\n",
            "Epoch 204/500\n",
            "1/1 [==============================] - 0s 46ms/step - loss: 3.7506 - mae: 4.1881 - val_loss: 16.7949 - val_mae: 17.2887\n",
            "Epoch 205/500\n",
            "1/1 [==============================] - 0s 51ms/step - loss: 3.7465 - mae: 4.1836 - val_loss: 16.7918 - val_mae: 17.2854\n",
            "Epoch 206/500\n",
            "1/1 [==============================] - 0s 48ms/step - loss: 3.7424 - mae: 4.1793 - val_loss: 16.8037 - val_mae: 17.2970\n",
            "Epoch 207/500\n",
            "1/1 [==============================] - 0s 49ms/step - loss: 3.7384 - mae: 4.1752 - val_loss: 16.8017 - val_mae: 17.2948\n",
            "Epoch 208/500\n",
            "1/1 [==============================] - 0s 48ms/step - loss: 3.7344 - mae: 4.1710 - val_loss: 16.8069 - val_mae: 17.2997\n",
            "Epoch 209/500\n",
            "1/1 [==============================] - 0s 49ms/step - loss: 3.7306 - mae: 4.1669 - val_loss: 16.8107 - val_mae: 17.3034\n",
            "Epoch 210/500\n",
            "1/1 [==============================] - 0s 42ms/step - loss: 3.7268 - mae: 4.1629 - val_loss: 16.7934 - val_mae: 17.2862\n",
            "Epoch 211/500\n",
            "1/1 [==============================] - 0s 44ms/step - loss: 3.7229 - mae: 4.1586 - val_loss: 16.7893 - val_mae: 17.2820\n",
            "Epoch 212/500\n",
            "1/1 [==============================] - 0s 46ms/step - loss: 3.7192 - mae: 4.1546 - val_loss: 16.7826 - val_mae: 17.2754\n",
            "Epoch 213/500\n",
            "1/1 [==============================] - 0s 59ms/step - loss: 3.7154 - mae: 4.1508 - val_loss: 16.7706 - val_mae: 17.2633\n",
            "Epoch 214/500\n",
            "1/1 [==============================] - 0s 46ms/step - loss: 3.7117 - mae: 4.1468 - val_loss: 16.7731 - val_mae: 17.2657\n",
            "Epoch 215/500\n",
            "1/1 [==============================] - 0s 40ms/step - loss: 3.7080 - mae: 4.1431 - val_loss: 16.7602 - val_mae: 17.2527\n",
            "Epoch 216/500\n",
            "1/1 [==============================] - 0s 42ms/step - loss: 3.7045 - mae: 4.1394 - val_loss: 16.7513 - val_mae: 17.2439\n",
            "Epoch 217/500\n",
            "1/1 [==============================] - 0s 46ms/step - loss: 3.7009 - mae: 4.1359 - val_loss: 16.7492 - val_mae: 17.2419\n",
            "Epoch 218/500\n",
            "1/1 [==============================] - 0s 42ms/step - loss: 3.6974 - mae: 4.1325 - val_loss: 16.7386 - val_mae: 17.2315\n",
            "Epoch 219/500\n",
            "1/1 [==============================] - 0s 43ms/step - loss: 3.6939 - mae: 4.1290 - val_loss: 16.7435 - val_mae: 17.2364\n",
            "Epoch 220/500\n",
            "1/1 [==============================] - 0s 42ms/step - loss: 3.6904 - mae: 4.1258 - val_loss: 16.7480 - val_mae: 17.2409\n",
            "Epoch 221/500\n",
            "1/1 [==============================] - 0s 56ms/step - loss: 3.6869 - mae: 4.1226 - val_loss: 16.7448 - val_mae: 17.2378\n",
            "Epoch 222/500\n",
            "1/1 [==============================] - 0s 46ms/step - loss: 3.6834 - mae: 4.1192 - val_loss: 16.7354 - val_mae: 17.2286\n",
            "Epoch 223/500\n",
            "1/1 [==============================] - 0s 38ms/step - loss: 3.6800 - mae: 4.1159 - val_loss: 16.7338 - val_mae: 17.2271\n",
            "Epoch 224/500\n",
            "1/1 [==============================] - 0s 41ms/step - loss: 3.6767 - mae: 4.1128 - val_loss: 16.7265 - val_mae: 17.2199\n",
            "Epoch 225/500\n",
            "1/1 [==============================] - 0s 45ms/step - loss: 3.6734 - mae: 4.1097 - val_loss: 16.7200 - val_mae: 17.2135\n",
            "Epoch 226/500\n",
            "1/1 [==============================] - 0s 43ms/step - loss: 3.6702 - mae: 4.1065 - val_loss: 16.7233 - val_mae: 17.2168\n",
            "Epoch 227/500\n",
            "1/1 [==============================] - 0s 46ms/step - loss: 3.6670 - mae: 4.1034 - val_loss: 16.7289 - val_mae: 17.2223\n",
            "Epoch 228/500\n",
            "1/1 [==============================] - 0s 45ms/step - loss: 3.6639 - mae: 4.1005 - val_loss: 16.7227 - val_mae: 17.2162\n",
            "Epoch 229/500\n",
            "1/1 [==============================] - 0s 43ms/step - loss: 3.6608 - mae: 4.0974 - val_loss: 16.7154 - val_mae: 17.2091\n",
            "Epoch 230/500\n",
            "1/1 [==============================] - 0s 42ms/step - loss: 3.6577 - mae: 4.0946 - val_loss: 16.7027 - val_mae: 17.1967\n",
            "Epoch 231/500\n",
            "1/1 [==============================] - 0s 39ms/step - loss: 3.6548 - mae: 4.0921 - val_loss: 16.6935 - val_mae: 17.1876\n",
            "Epoch 232/500\n",
            "1/1 [==============================] - 0s 42ms/step - loss: 3.6519 - mae: 4.0894 - val_loss: 16.7097 - val_mae: 17.2037\n",
            "Epoch 233/500\n",
            "1/1 [==============================] - 0s 47ms/step - loss: 3.6490 - mae: 4.0868 - val_loss: 16.7080 - val_mae: 17.2019\n",
            "Epoch 234/500\n",
            "1/1 [==============================] - 0s 45ms/step - loss: 3.6460 - mae: 4.0839 - val_loss: 16.7196 - val_mae: 17.2133\n",
            "Epoch 235/500\n",
            "1/1 [==============================] - 0s 39ms/step - loss: 3.6432 - mae: 4.0812 - val_loss: 16.7137 - val_mae: 17.2074\n",
            "Epoch 236/500\n",
            "1/1 [==============================] - 0s 47ms/step - loss: 3.6404 - mae: 4.0786 - val_loss: 16.7103 - val_mae: 17.2042\n",
            "Epoch 237/500\n",
            "1/1 [==============================] - 0s 46ms/step - loss: 3.6376 - mae: 4.0761 - val_loss: 16.7032 - val_mae: 17.1973\n",
            "Epoch 238/500\n",
            "1/1 [==============================] - 0s 44ms/step - loss: 3.6349 - mae: 4.0736 - val_loss: 16.6919 - val_mae: 17.1862\n",
            "Epoch 239/500\n",
            "1/1 [==============================] - 0s 40ms/step - loss: 3.6322 - mae: 4.0711 - val_loss: 16.7066 - val_mae: 17.2007\n",
            "Epoch 240/500\n",
            "1/1 [==============================] - 0s 49ms/step - loss: 3.6295 - mae: 4.0685 - val_loss: 16.6917 - val_mae: 17.1861\n",
            "Epoch 241/500\n",
            "1/1 [==============================] - 0s 40ms/step - loss: 3.6268 - mae: 4.0659 - val_loss: 16.7081 - val_mae: 17.2022\n",
            "Epoch 242/500\n",
            "1/1 [==============================] - 0s 41ms/step - loss: 3.6242 - mae: 4.0634 - val_loss: 16.6850 - val_mae: 17.1794\n",
            "Epoch 243/500\n",
            "1/1 [==============================] - 0s 40ms/step - loss: 3.6216 - mae: 4.0609 - val_loss: 16.6785 - val_mae: 17.1730\n",
            "Epoch 244/500\n",
            "1/1 [==============================] - 0s 52ms/step - loss: 3.6191 - mae: 4.0585 - val_loss: 16.6821 - val_mae: 17.1766\n",
            "Epoch 245/500\n",
            "1/1 [==============================] - 0s 42ms/step - loss: 3.6166 - mae: 4.0561 - val_loss: 16.6698 - val_mae: 17.1643\n",
            "Epoch 246/500\n",
            "1/1 [==============================] - 0s 43ms/step - loss: 3.6142 - mae: 4.0538 - val_loss: 16.6903 - val_mae: 17.1846\n",
            "Epoch 247/500\n",
            "1/1 [==============================] - 0s 42ms/step - loss: 3.6118 - mae: 4.0513 - val_loss: 16.6720 - val_mae: 17.1664\n",
            "Epoch 248/500\n",
            "1/1 [==============================] - 0s 45ms/step - loss: 3.6093 - mae: 4.0490 - val_loss: 16.6663 - val_mae: 17.1607\n",
            "Epoch 249/500\n",
            "1/1 [==============================] - 0s 45ms/step - loss: 3.6069 - mae: 4.0467 - val_loss: 16.6811 - val_mae: 17.1753\n",
            "Epoch 250/500\n",
            "1/1 [==============================] - 0s 45ms/step - loss: 3.6046 - mae: 4.0444 - val_loss: 16.6603 - val_mae: 17.1547\n",
            "Epoch 251/500\n",
            "1/1 [==============================] - 0s 48ms/step - loss: 3.6023 - mae: 4.0421 - val_loss: 16.6692 - val_mae: 17.1634\n",
            "Epoch 252/500\n",
            "1/1 [==============================] - 0s 40ms/step - loss: 3.6000 - mae: 4.0398 - val_loss: 16.6711 - val_mae: 17.1652\n",
            "Epoch 253/500\n",
            "1/1 [==============================] - 0s 42ms/step - loss: 3.5976 - mae: 4.0375 - val_loss: 16.6599 - val_mae: 17.1539\n",
            "Epoch 254/500\n",
            "1/1 [==============================] - 0s 42ms/step - loss: 3.5954 - mae: 4.0352 - val_loss: 16.6701 - val_mae: 17.1640\n",
            "Epoch 255/500\n",
            "1/1 [==============================] - 0s 50ms/step - loss: 3.5931 - mae: 4.0331 - val_loss: 16.6585 - val_mae: 17.1524\n",
            "Epoch 256/500\n",
            "1/1 [==============================] - 0s 44ms/step - loss: 3.5909 - mae: 4.0307 - val_loss: 16.6685 - val_mae: 17.1622\n",
            "Epoch 257/500\n",
            "1/1 [==============================] - 0s 48ms/step - loss: 3.5888 - mae: 4.0286 - val_loss: 16.6591 - val_mae: 17.1527\n",
            "Epoch 258/500\n",
            "1/1 [==============================] - 0s 45ms/step - loss: 3.5865 - mae: 4.0264 - val_loss: 16.6477 - val_mae: 17.1412\n",
            "Epoch 259/500\n",
            "1/1 [==============================] - 0s 41ms/step - loss: 3.5843 - mae: 4.0240 - val_loss: 16.6657 - val_mae: 17.1589\n",
            "Epoch 260/500\n",
            "1/1 [==============================] - 0s 43ms/step - loss: 3.5821 - mae: 4.0221 - val_loss: 16.6504 - val_mae: 17.1434\n",
            "Epoch 261/500\n",
            "1/1 [==============================] - 0s 42ms/step - loss: 3.5799 - mae: 4.0195 - val_loss: 16.6609 - val_mae: 17.1535\n",
            "Epoch 262/500\n",
            "1/1 [==============================] - 0s 44ms/step - loss: 3.5777 - mae: 4.0175 - val_loss: 16.6464 - val_mae: 17.1388\n",
            "Epoch 263/500\n",
            "1/1 [==============================] - 0s 37ms/step - loss: 3.5755 - mae: 4.0151 - val_loss: 16.6529 - val_mae: 17.1450\n",
            "Epoch 264/500\n",
            "1/1 [==============================] - 0s 47ms/step - loss: 3.5734 - mae: 4.0131 - val_loss: 16.6390 - val_mae: 17.1308\n",
            "Epoch 265/500\n",
            "1/1 [==============================] - 0s 48ms/step - loss: 3.5714 - mae: 4.0106 - val_loss: 16.6499 - val_mae: 17.1415\n",
            "Epoch 266/500\n",
            "1/1 [==============================] - 0s 40ms/step - loss: 3.5693 - mae: 4.0087 - val_loss: 16.6336 - val_mae: 17.1252\n",
            "Epoch 267/500\n",
            "1/1 [==============================] - 0s 50ms/step - loss: 3.5672 - mae: 4.0065 - val_loss: 16.6339 - val_mae: 17.1254\n",
            "Epoch 268/500\n",
            "1/1 [==============================] - 0s 50ms/step - loss: 3.5652 - mae: 4.0046 - val_loss: 16.6260 - val_mae: 17.1175\n",
            "Epoch 269/500\n",
            "1/1 [==============================] - 0s 43ms/step - loss: 3.5632 - mae: 4.0024 - val_loss: 16.6250 - val_mae: 17.1164\n",
            "Epoch 270/500\n",
            "1/1 [==============================] - 0s 40ms/step - loss: 3.5612 - mae: 4.0003 - val_loss: 16.6313 - val_mae: 17.1227\n",
            "Epoch 271/500\n",
            "1/1 [==============================] - 0s 43ms/step - loss: 3.5592 - mae: 3.9986 - val_loss: 16.5996 - val_mae: 17.0911\n",
            "Epoch 272/500\n",
            "1/1 [==============================] - 0s 44ms/step - loss: 3.5572 - mae: 3.9961 - val_loss: 16.6125 - val_mae: 17.1040\n",
            "Epoch 273/500\n",
            "1/1 [==============================] - 0s 39ms/step - loss: 3.5553 - mae: 3.9946 - val_loss: 16.6029 - val_mae: 17.0944\n",
            "Epoch 274/500\n",
            "1/1 [==============================] - 0s 50ms/step - loss: 3.5533 - mae: 3.9923 - val_loss: 16.6025 - val_mae: 17.0939\n",
            "Epoch 275/500\n",
            "1/1 [==============================] - 0s 49ms/step - loss: 3.5514 - mae: 3.9903 - val_loss: 16.6086 - val_mae: 17.0999\n",
            "Epoch 276/500\n",
            "1/1 [==============================] - 0s 42ms/step - loss: 3.5495 - mae: 3.9886 - val_loss: 16.5793 - val_mae: 17.0709\n",
            "Epoch 277/500\n",
            "1/1 [==============================] - 0s 46ms/step - loss: 3.5476 - mae: 3.9863 - val_loss: 16.6017 - val_mae: 17.0931\n",
            "Epoch 278/500\n",
            "1/1 [==============================] - 0s 46ms/step - loss: 3.5457 - mae: 3.9849 - val_loss: 16.5869 - val_mae: 17.0784\n",
            "Epoch 279/500\n",
            "1/1 [==============================] - 0s 43ms/step - loss: 3.5438 - mae: 3.9827 - val_loss: 16.5881 - val_mae: 17.0797\n",
            "Epoch 280/500\n",
            "1/1 [==============================] - 0s 41ms/step - loss: 3.5419 - mae: 3.9809 - val_loss: 16.6044 - val_mae: 17.0957\n",
            "Epoch 281/500\n",
            "1/1 [==============================] - 0s 40ms/step - loss: 3.5401 - mae: 3.9793 - val_loss: 16.5696 - val_mae: 17.0614\n",
            "Epoch 282/500\n",
            "1/1 [==============================] - 0s 39ms/step - loss: 3.5383 - mae: 3.9769 - val_loss: 16.6127 - val_mae: 17.1036\n",
            "Epoch 283/500\n",
            "1/1 [==============================] - 0s 40ms/step - loss: 3.5365 - mae: 3.9757 - val_loss: 16.5732 - val_mae: 17.0648\n",
            "Epoch 284/500\n",
            "1/1 [==============================] - 0s 40ms/step - loss: 3.5346 - mae: 3.9732 - val_loss: 16.5971 - val_mae: 17.0879\n",
            "Epoch 285/500\n",
            "1/1 [==============================] - 0s 42ms/step - loss: 3.5328 - mae: 3.9717 - val_loss: 16.5970 - val_mae: 17.0877\n",
            "Epoch 286/500\n",
            "1/1 [==============================] - 0s 39ms/step - loss: 3.5310 - mae: 3.9697 - val_loss: 16.5836 - val_mae: 17.0747\n",
            "Epoch 287/500\n",
            "1/1 [==============================] - 0s 44ms/step - loss: 3.5292 - mae: 3.9678 - val_loss: 16.6038 - val_mae: 17.0944\n",
            "Epoch 288/500\n",
            "1/1 [==============================] - 0s 39ms/step - loss: 3.5274 - mae: 3.9663 - val_loss: 16.5833 - val_mae: 17.0746\n",
            "Epoch 289/500\n",
            "1/1 [==============================] - 0s 44ms/step - loss: 3.5257 - mae: 3.9642 - val_loss: 16.5993 - val_mae: 17.0901\n",
            "Epoch 290/500\n",
            "1/1 [==============================] - 0s 51ms/step - loss: 3.5239 - mae: 3.9624 - val_loss: 16.5923 - val_mae: 17.0832\n",
            "Epoch 291/500\n",
            "1/1 [==============================] - 0s 40ms/step - loss: 3.5222 - mae: 3.9607 - val_loss: 16.5830 - val_mae: 17.0741\n",
            "Epoch 292/500\n",
            "1/1 [==============================] - 0s 50ms/step - loss: 3.5205 - mae: 3.9590 - val_loss: 16.6032 - val_mae: 17.0937\n",
            "Epoch 293/500\n",
            "1/1 [==============================] - 0s 49ms/step - loss: 3.5188 - mae: 3.9572 - val_loss: 16.5734 - val_mae: 17.0648\n",
            "Epoch 294/500\n",
            "1/1 [==============================] - 0s 38ms/step - loss: 3.5172 - mae: 3.9557 - val_loss: 16.6060 - val_mae: 17.0964\n",
            "Epoch 295/500\n",
            "1/1 [==============================] - 0s 45ms/step - loss: 3.5155 - mae: 3.9539 - val_loss: 16.5647 - val_mae: 17.0565\n",
            "Epoch 296/500\n",
            "1/1 [==============================] - 0s 44ms/step - loss: 3.5139 - mae: 3.9523 - val_loss: 16.5974 - val_mae: 17.0884\n",
            "Epoch 297/500\n",
            "1/1 [==============================] - 0s 45ms/step - loss: 3.5122 - mae: 3.9507 - val_loss: 16.5635 - val_mae: 17.0557\n",
            "Epoch 298/500\n",
            "1/1 [==============================] - 0s 41ms/step - loss: 3.5105 - mae: 3.9488 - val_loss: 16.5856 - val_mae: 17.0772\n",
            "Epoch 299/500\n",
            "1/1 [==============================] - 0s 40ms/step - loss: 3.5088 - mae: 3.9471 - val_loss: 16.5917 - val_mae: 17.0832\n",
            "Epoch 300/500\n",
            "1/1 [==============================] - 0s 44ms/step - loss: 3.5071 - mae: 3.9454 - val_loss: 16.5694 - val_mae: 17.0617\n",
            "Epoch 301/500\n",
            "1/1 [==============================] - 0s 38ms/step - loss: 3.5055 - mae: 3.9438 - val_loss: 16.6016 - val_mae: 17.0929\n",
            "Epoch 302/500\n",
            "1/1 [==============================] - 0s 42ms/step - loss: 3.5039 - mae: 3.9421 - val_loss: 16.5637 - val_mae: 17.0563\n",
            "Epoch 303/500\n",
            "1/1 [==============================] - 0s 42ms/step - loss: 3.5022 - mae: 3.9404 - val_loss: 16.5942 - val_mae: 17.0858\n",
            "Epoch 304/500\n",
            "1/1 [==============================] - 0s 55ms/step - loss: 3.5005 - mae: 3.9386 - val_loss: 16.5865 - val_mae: 17.0784\n",
            "Epoch 305/500\n",
            "1/1 [==============================] - 0s 41ms/step - loss: 3.4989 - mae: 3.9370 - val_loss: 16.5834 - val_mae: 17.0754\n",
            "Epoch 306/500\n",
            "1/1 [==============================] - 0s 38ms/step - loss: 3.4973 - mae: 3.9354 - val_loss: 16.5880 - val_mae: 17.0800\n",
            "Epoch 307/500\n",
            "1/1 [==============================] - 0s 41ms/step - loss: 3.4956 - mae: 3.9338 - val_loss: 16.5635 - val_mae: 17.0564\n",
            "Epoch 308/500\n",
            "1/1 [==============================] - 0s 44ms/step - loss: 3.4941 - mae: 3.9321 - val_loss: 16.5931 - val_mae: 17.0851\n",
            "Epoch 309/500\n",
            "1/1 [==============================] - 0s 46ms/step - loss: 3.4925 - mae: 3.9305 - val_loss: 16.5619 - val_mae: 17.0550\n",
            "Epoch 310/500\n",
            "1/1 [==============================] - 0s 40ms/step - loss: 3.4908 - mae: 3.9289 - val_loss: 16.5782 - val_mae: 17.0710\n",
            "Epoch 311/500\n",
            "1/1 [==============================] - 0s 39ms/step - loss: 3.4891 - mae: 3.9272 - val_loss: 16.5665 - val_mae: 17.0597\n",
            "Epoch 312/500\n",
            "1/1 [==============================] - 0s 42ms/step - loss: 3.4875 - mae: 3.9256 - val_loss: 16.5544 - val_mae: 17.0481\n",
            "Epoch 313/500\n",
            "1/1 [==============================] - 0s 56ms/step - loss: 3.4859 - mae: 3.9240 - val_loss: 16.5738 - val_mae: 17.0669\n",
            "Epoch 314/500\n",
            "1/1 [==============================] - 0s 49ms/step - loss: 3.4843 - mae: 3.9224 - val_loss: 16.5526 - val_mae: 17.0464\n",
            "Epoch 315/500\n",
            "1/1 [==============================] - 0s 50ms/step - loss: 3.4827 - mae: 3.9208 - val_loss: 16.5730 - val_mae: 17.0661\n",
            "Epoch 316/500\n",
            "1/1 [==============================] - 0s 38ms/step - loss: 3.4810 - mae: 3.9191 - val_loss: 16.5553 - val_mae: 17.0491\n",
            "Epoch 317/500\n",
            "1/1 [==============================] - 0s 45ms/step - loss: 3.4794 - mae: 3.9173 - val_loss: 16.5595 - val_mae: 17.0532\n",
            "Epoch 318/500\n",
            "1/1 [==============================] - 0s 41ms/step - loss: 3.4777 - mae: 3.9156 - val_loss: 16.5628 - val_mae: 17.0564\n",
            "Epoch 319/500\n",
            "1/1 [==============================] - 0s 43ms/step - loss: 3.4762 - mae: 3.9140 - val_loss: 16.5358 - val_mae: 17.0302\n",
            "Epoch 320/500\n",
            "1/1 [==============================] - 0s 42ms/step - loss: 3.4746 - mae: 3.9125 - val_loss: 16.5713 - val_mae: 17.0648\n",
            "Epoch 321/500\n",
            "1/1 [==============================] - 0s 52ms/step - loss: 3.4732 - mae: 3.9109 - val_loss: 16.5197 - val_mae: 17.0147\n",
            "Epoch 322/500\n",
            "1/1 [==============================] - 0s 45ms/step - loss: 3.4717 - mae: 3.9093 - val_loss: 16.5758 - val_mae: 17.0693\n",
            "Epoch 323/500\n",
            "1/1 [==============================] - 0s 43ms/step - loss: 3.4701 - mae: 3.9078 - val_loss: 16.5171 - val_mae: 17.0123\n",
            "Epoch 324/500\n",
            "1/1 [==============================] - 0s 48ms/step - loss: 3.4685 - mae: 3.9060 - val_loss: 16.5636 - val_mae: 17.0576\n",
            "Epoch 325/500\n",
            "1/1 [==============================] - 0s 42ms/step - loss: 3.4668 - mae: 3.9044 - val_loss: 16.5245 - val_mae: 17.0197\n",
            "Epoch 326/500\n",
            "1/1 [==============================] - 0s 44ms/step - loss: 3.4652 - mae: 3.9026 - val_loss: 16.5536 - val_mae: 17.0481\n",
            "Epoch 327/500\n",
            "1/1 [==============================] - 0s 42ms/step - loss: 3.4636 - mae: 3.9010 - val_loss: 16.5346 - val_mae: 17.0296\n",
            "Epoch 328/500\n",
            "1/1 [==============================] - 0s 47ms/step - loss: 3.4620 - mae: 3.8992 - val_loss: 16.5419 - val_mae: 17.0368\n",
            "Epoch 329/500\n",
            "1/1 [==============================] - 0s 46ms/step - loss: 3.4604 - mae: 3.8976 - val_loss: 16.5499 - val_mae: 17.0445\n",
            "Epoch 330/500\n",
            "1/1 [==============================] - 0s 54ms/step - loss: 3.4588 - mae: 3.8961 - val_loss: 16.5310 - val_mae: 17.0262\n",
            "Epoch 331/500\n",
            "1/1 [==============================] - 0s 42ms/step - loss: 3.4572 - mae: 3.8943 - val_loss: 16.5468 - val_mae: 17.0417\n",
            "Epoch 332/500\n",
            "1/1 [==============================] - 0s 38ms/step - loss: 3.4557 - mae: 3.8929 - val_loss: 16.5068 - val_mae: 17.0028\n",
            "Epoch 333/500\n",
            "1/1 [==============================] - 0s 38ms/step - loss: 3.4542 - mae: 3.8911 - val_loss: 16.5545 - val_mae: 17.0492\n",
            "Epoch 334/500\n",
            "1/1 [==============================] - 0s 40ms/step - loss: 3.4527 - mae: 3.8900 - val_loss: 16.5001 - val_mae: 16.9963\n",
            "Epoch 335/500\n",
            "1/1 [==============================] - 0s 48ms/step - loss: 3.4512 - mae: 3.8878 - val_loss: 16.5597 - val_mae: 17.0543\n",
            "Epoch 336/500\n",
            "1/1 [==============================] - 0s 42ms/step - loss: 3.4496 - mae: 3.8868 - val_loss: 16.4853 - val_mae: 16.9820\n",
            "Epoch 337/500\n",
            "1/1 [==============================] - 0s 42ms/step - loss: 3.4480 - mae: 3.8846 - val_loss: 16.5419 - val_mae: 17.0371\n",
            "Epoch 338/500\n",
            "1/1 [==============================] - 0s 45ms/step - loss: 3.4463 - mae: 3.8833 - val_loss: 16.4864 - val_mae: 16.9831\n",
            "Epoch 339/500\n",
            "1/1 [==============================] - 0s 48ms/step - loss: 3.4445 - mae: 3.8810 - val_loss: 16.5117 - val_mae: 17.0077\n",
            "Epoch 340/500\n",
            "1/1 [==============================] - 0s 41ms/step - loss: 3.4428 - mae: 3.8792 - val_loss: 16.5114 - val_mae: 17.0074\n",
            "Epoch 341/500\n",
            "1/1 [==============================] - 0s 44ms/step - loss: 3.4412 - mae: 3.8775 - val_loss: 16.4878 - val_mae: 16.9844\n",
            "Epoch 342/500\n",
            "1/1 [==============================] - 0s 43ms/step - loss: 3.4396 - mae: 3.8758 - val_loss: 16.5285 - val_mae: 17.0241\n",
            "Epoch 343/500\n",
            "1/1 [==============================] - 0s 40ms/step - loss: 3.4381 - mae: 3.8745 - val_loss: 16.4692 - val_mae: 16.9663\n",
            "Epoch 344/500\n",
            "1/1 [==============================] - 0s 50ms/step - loss: 3.4367 - mae: 3.8728 - val_loss: 16.5428 - val_mae: 17.0379\n",
            "Epoch 345/500\n",
            "1/1 [==============================] - 0s 44ms/step - loss: 3.4352 - mae: 3.8717 - val_loss: 16.4599 - val_mae: 16.9570\n",
            "Epoch 346/500\n",
            "1/1 [==============================] - 0s 57ms/step - loss: 3.4337 - mae: 3.8695 - val_loss: 16.5369 - val_mae: 17.0322\n",
            "Epoch 347/500\n",
            "1/1 [==============================] - 0s 42ms/step - loss: 3.4321 - mae: 3.8685 - val_loss: 16.4468 - val_mae: 16.9442\n",
            "Epoch 348/500\n",
            "1/1 [==============================] - 0s 44ms/step - loss: 3.4305 - mae: 3.8661 - val_loss: 16.5235 - val_mae: 17.0191\n",
            "Epoch 349/500\n",
            "1/1 [==============================] - 0s 46ms/step - loss: 3.4288 - mae: 3.8650 - val_loss: 16.4524 - val_mae: 16.9496\n",
            "Epoch 350/500\n",
            "1/1 [==============================] - 0s 39ms/step - loss: 3.4270 - mae: 3.8625 - val_loss: 16.5031 - val_mae: 16.9992\n",
            "Epoch 351/500\n",
            "1/1 [==============================] - 0s 43ms/step - loss: 3.4252 - mae: 3.8610 - val_loss: 16.4711 - val_mae: 16.9680\n",
            "Epoch 352/500\n",
            "1/1 [==============================] - 0s 41ms/step - loss: 3.4235 - mae: 3.8588 - val_loss: 16.4775 - val_mae: 16.9743\n",
            "Epoch 353/500\n",
            "1/1 [==============================] - 0s 39ms/step - loss: 3.4219 - mae: 3.8571 - val_loss: 16.4758 - val_mae: 16.9726\n",
            "Epoch 354/500\n",
            "1/1 [==============================] - 0s 42ms/step - loss: 3.4204 - mae: 3.8554 - val_loss: 16.4624 - val_mae: 16.9595\n",
            "Epoch 355/500\n",
            "1/1 [==============================] - 0s 38ms/step - loss: 3.4188 - mae: 3.8536 - val_loss: 16.4748 - val_mae: 16.9716\n",
            "Epoch 356/500\n",
            "1/1 [==============================] - 0s 40ms/step - loss: 3.4172 - mae: 3.8520 - val_loss: 16.4428 - val_mae: 16.9403\n",
            "Epoch 357/500\n",
            "1/1 [==============================] - 0s 43ms/step - loss: 3.4157 - mae: 3.8502 - val_loss: 16.4797 - val_mae: 16.9764\n",
            "Epoch 358/500\n",
            "1/1 [==============================] - 0s 42ms/step - loss: 3.4141 - mae: 3.8490 - val_loss: 16.4288 - val_mae: 16.9264\n",
            "Epoch 359/500\n",
            "1/1 [==============================] - 0s 44ms/step - loss: 3.4126 - mae: 3.8468 - val_loss: 16.4777 - val_mae: 16.9743\n",
            "Epoch 360/500\n",
            "1/1 [==============================] - 0s 51ms/step - loss: 3.4110 - mae: 3.8458 - val_loss: 16.4241 - val_mae: 16.9218\n",
            "Epoch 361/500\n",
            "1/1 [==============================] - 0s 38ms/step - loss: 3.4095 - mae: 3.8433 - val_loss: 16.4778 - val_mae: 16.9746\n",
            "Epoch 362/500\n",
            "1/1 [==============================] - 0s 46ms/step - loss: 3.4080 - mae: 3.8427 - val_loss: 16.4096 - val_mae: 16.9077\n",
            "Epoch 363/500\n",
            "1/1 [==============================] - 0s 49ms/step - loss: 3.4066 - mae: 3.8402 - val_loss: 16.4786 - val_mae: 16.9754\n",
            "Epoch 364/500\n",
            "1/1 [==============================] - 0s 46ms/step - loss: 3.4052 - mae: 3.8401 - val_loss: 16.3880 - val_mae: 16.8863\n",
            "Epoch 365/500\n",
            "1/1 [==============================] - 0s 39ms/step - loss: 3.4037 - mae: 3.8373 - val_loss: 16.4712 - val_mae: 16.9681\n",
            "Epoch 366/500\n",
            "1/1 [==============================] - 0s 43ms/step - loss: 3.4022 - mae: 3.8371 - val_loss: 16.3898 - val_mae: 16.8880\n",
            "Epoch 367/500\n",
            "1/1 [==============================] - 0s 42ms/step - loss: 3.4006 - mae: 3.8341 - val_loss: 16.4660 - val_mae: 16.9628\n",
            "Epoch 368/500\n",
            "1/1 [==============================] - 0s 54ms/step - loss: 3.3989 - mae: 3.8337 - val_loss: 16.4126 - val_mae: 16.9104\n",
            "Epoch 369/500\n",
            "1/1 [==============================] - 0s 46ms/step - loss: 3.3972 - mae: 3.8306 - val_loss: 16.4541 - val_mae: 16.9511\n",
            "Epoch 370/500\n",
            "1/1 [==============================] - 0s 48ms/step - loss: 3.3955 - mae: 3.8298 - val_loss: 16.4283 - val_mae: 16.9259\n",
            "Epoch 371/500\n",
            "1/1 [==============================] - 0s 43ms/step - loss: 3.3939 - mae: 3.8278 - val_loss: 16.4292 - val_mae: 16.9267\n",
            "Epoch 372/500\n",
            "1/1 [==============================] - 0s 41ms/step - loss: 3.3923 - mae: 3.8263 - val_loss: 16.4463 - val_mae: 16.9435\n",
            "Epoch 373/500\n",
            "1/1 [==============================] - 0s 41ms/step - loss: 3.3908 - mae: 3.8251 - val_loss: 16.4204 - val_mae: 16.9181\n",
            "Epoch 374/500\n",
            "1/1 [==============================] - 0s 40ms/step - loss: 3.3893 - mae: 3.8229 - val_loss: 16.4660 - val_mae: 16.9628\n",
            "Epoch 375/500\n",
            "1/1 [==============================] - 0s 40ms/step - loss: 3.3878 - mae: 3.8224 - val_loss: 16.4161 - val_mae: 16.9138\n",
            "Epoch 376/500\n",
            "1/1 [==============================] - 0s 40ms/step - loss: 3.3863 - mae: 3.8197 - val_loss: 16.4699 - val_mae: 16.9666\n",
            "Epoch 377/500\n",
            "1/1 [==============================] - 0s 41ms/step - loss: 3.3849 - mae: 3.8198 - val_loss: 16.3936 - val_mae: 16.8917\n",
            "Epoch 378/500\n",
            "1/1 [==============================] - 0s 42ms/step - loss: 3.3834 - mae: 3.8167 - val_loss: 16.4669 - val_mae: 16.9636\n",
            "Epoch 379/500\n",
            "1/1 [==============================] - 0s 39ms/step - loss: 3.3820 - mae: 3.8171 - val_loss: 16.3697 - val_mae: 16.8681\n",
            "Epoch 380/500\n",
            "1/1 [==============================] - 0s 43ms/step - loss: 3.3805 - mae: 3.8137 - val_loss: 16.4620 - val_mae: 16.9588\n",
            "Epoch 381/500\n",
            "1/1 [==============================] - 0s 44ms/step - loss: 3.3789 - mae: 3.8140 - val_loss: 16.3701 - val_mae: 16.8685\n",
            "Epoch 382/500\n",
            "1/1 [==============================] - 0s 38ms/step - loss: 3.3771 - mae: 3.8103 - val_loss: 16.4487 - val_mae: 16.9457\n",
            "Epoch 383/500\n",
            "1/1 [==============================] - 0s 38ms/step - loss: 3.3753 - mae: 3.8101 - val_loss: 16.3820 - val_mae: 16.8802\n",
            "Epoch 384/500\n",
            "1/1 [==============================] - 0s 46ms/step - loss: 3.3735 - mae: 3.8070 - val_loss: 16.4162 - val_mae: 16.9139\n",
            "Epoch 385/500\n",
            "1/1 [==============================] - 0s 47ms/step - loss: 3.3717 - mae: 3.8056 - val_loss: 16.3942 - val_mae: 16.8921\n",
            "Epoch 386/500\n",
            "1/1 [==============================] - 0s 47ms/step - loss: 3.3700 - mae: 3.8036 - val_loss: 16.3887 - val_mae: 16.8866\n",
            "Epoch 387/500\n",
            "1/1 [==============================] - 0s 45ms/step - loss: 3.3683 - mae: 3.8019 - val_loss: 16.4144 - val_mae: 16.9119\n",
            "Epoch 388/500\n",
            "1/1 [==============================] - 0s 40ms/step - loss: 3.3667 - mae: 3.8008 - val_loss: 16.3601 - val_mae: 16.8582\n",
            "Epoch 389/500\n",
            "1/1 [==============================] - 0s 39ms/step - loss: 3.3652 - mae: 3.7986 - val_loss: 16.4212 - val_mae: 16.9185\n",
            "Epoch 390/500\n",
            "1/1 [==============================] - 0s 37ms/step - loss: 3.3637 - mae: 3.7982 - val_loss: 16.3374 - val_mae: 16.8356\n",
            "Epoch 391/500\n",
            "1/1 [==============================] - 0s 38ms/step - loss: 3.3622 - mae: 3.7955 - val_loss: 16.4173 - val_mae: 16.9145\n",
            "Epoch 392/500\n",
            "1/1 [==============================] - 0s 48ms/step - loss: 3.3607 - mae: 3.7953 - val_loss: 16.3219 - val_mae: 16.8202\n",
            "Epoch 393/500\n",
            "1/1 [==============================] - 0s 50ms/step - loss: 3.3590 - mae: 3.7924 - val_loss: 16.3986 - val_mae: 16.8961\n",
            "Epoch 394/500\n",
            "1/1 [==============================] - 0s 53ms/step - loss: 3.3573 - mae: 3.7917 - val_loss: 16.3299 - val_mae: 16.8280\n",
            "Epoch 395/500\n",
            "1/1 [==============================] - 0s 58ms/step - loss: 3.3555 - mae: 3.7892 - val_loss: 16.3743 - val_mae: 16.8720\n",
            "Epoch 396/500\n",
            "1/1 [==============================] - 0s 61ms/step - loss: 3.3538 - mae: 3.7876 - val_loss: 16.3495 - val_mae: 16.8474\n",
            "Epoch 397/500\n",
            "1/1 [==============================] - 0s 55ms/step - loss: 3.3521 - mae: 3.7858 - val_loss: 16.3469 - val_mae: 16.8447\n",
            "Epoch 398/500\n",
            "1/1 [==============================] - 0s 59ms/step - loss: 3.3505 - mae: 3.7842 - val_loss: 16.3661 - val_mae: 16.8637\n",
            "Epoch 399/500\n",
            "1/1 [==============================] - 0s 56ms/step - loss: 3.3490 - mae: 3.7826 - val_loss: 16.3209 - val_mae: 16.8188\n",
            "Epoch 400/500\n",
            "1/1 [==============================] - 0s 61ms/step - loss: 3.3475 - mae: 3.7811 - val_loss: 16.3712 - val_mae: 16.8687\n",
            "Epoch 401/500\n",
            "1/1 [==============================] - 0s 71ms/step - loss: 3.3461 - mae: 3.7799 - val_loss: 16.3084 - val_mae: 16.8063\n",
            "Epoch 402/500\n",
            "1/1 [==============================] - 0s 56ms/step - loss: 3.3446 - mae: 3.7780 - val_loss: 16.3724 - val_mae: 16.8698\n",
            "Epoch 403/500\n",
            "1/1 [==============================] - 0s 57ms/step - loss: 3.3430 - mae: 3.7766 - val_loss: 16.3112 - val_mae: 16.8090\n",
            "Epoch 404/500\n",
            "1/1 [==============================] - 0s 56ms/step - loss: 3.3414 - mae: 3.7748 - val_loss: 16.3672 - val_mae: 16.8645\n",
            "Epoch 405/500\n",
            "1/1 [==============================] - 0s 48ms/step - loss: 3.3398 - mae: 3.7731 - val_loss: 16.3278 - val_mae: 16.8253\n",
            "Epoch 406/500\n",
            "1/1 [==============================] - 0s 43ms/step - loss: 3.3382 - mae: 3.7715 - val_loss: 16.3582 - val_mae: 16.8555\n",
            "Epoch 407/500\n",
            "1/1 [==============================] - 0s 43ms/step - loss: 3.3366 - mae: 3.7697 - val_loss: 16.3364 - val_mae: 16.8338\n",
            "Epoch 408/500\n",
            "1/1 [==============================] - 0s 47ms/step - loss: 3.3350 - mae: 3.7682 - val_loss: 16.3546 - val_mae: 16.8519\n",
            "Epoch 409/500\n",
            "1/1 [==============================] - 0s 37ms/step - loss: 3.3335 - mae: 3.7666 - val_loss: 16.3258 - val_mae: 16.8232\n",
            "Epoch 410/500\n",
            "1/1 [==============================] - 0s 40ms/step - loss: 3.3320 - mae: 3.7652 - val_loss: 16.3547 - val_mae: 16.8519\n",
            "Epoch 411/500\n",
            "1/1 [==============================] - 0s 45ms/step - loss: 3.3305 - mae: 3.7636 - val_loss: 16.3192 - val_mae: 16.8166\n",
            "Epoch 412/500\n",
            "1/1 [==============================] - 0s 42ms/step - loss: 3.3290 - mae: 3.7622 - val_loss: 16.3458 - val_mae: 16.8431\n",
            "Epoch 413/500\n",
            "1/1 [==============================] - 0s 41ms/step - loss: 3.3274 - mae: 3.7606 - val_loss: 16.3214 - val_mae: 16.8187\n",
            "Epoch 414/500\n",
            "1/1 [==============================] - 0s 42ms/step - loss: 3.3259 - mae: 3.7590 - val_loss: 16.3424 - val_mae: 16.8395\n",
            "Epoch 415/500\n",
            "1/1 [==============================] - 0s 42ms/step - loss: 3.3244 - mae: 3.7573 - val_loss: 16.3400 - val_mae: 16.8370\n",
            "Epoch 416/500\n",
            "1/1 [==============================] - 0s 44ms/step - loss: 3.3229 - mae: 3.7557 - val_loss: 16.3405 - val_mae: 16.8374\n",
            "Epoch 417/500\n",
            "1/1 [==============================] - 0s 43ms/step - loss: 3.3214 - mae: 3.7542 - val_loss: 16.3546 - val_mae: 16.8513\n",
            "Epoch 418/500\n",
            "1/1 [==============================] - 0s 40ms/step - loss: 3.3199 - mae: 3.7528 - val_loss: 16.3246 - val_mae: 16.8213\n",
            "Epoch 419/500\n",
            "1/1 [==============================] - 0s 48ms/step - loss: 3.3185 - mae: 3.7512 - val_loss: 16.3753 - val_mae: 16.8717\n",
            "Epoch 420/500\n",
            "1/1 [==============================] - 0s 42ms/step - loss: 3.3171 - mae: 3.7505 - val_loss: 16.3031 - val_mae: 16.7997\n",
            "Epoch 421/500\n",
            "1/1 [==============================] - 0s 43ms/step - loss: 3.3159 - mae: 3.7483 - val_loss: 16.4013 - val_mae: 16.8975\n",
            "Epoch 422/500\n",
            "1/1 [==============================] - 0s 42ms/step - loss: 3.3149 - mae: 3.7487 - val_loss: 16.2750 - val_mae: 16.7714\n",
            "Epoch 423/500\n",
            "1/1 [==============================] - 0s 42ms/step - loss: 3.3139 - mae: 3.7455 - val_loss: 16.4242 - val_mae: 16.9202\n",
            "Epoch 424/500\n",
            "1/1 [==============================] - 0s 40ms/step - loss: 3.3131 - mae: 3.7476 - val_loss: 16.2457 - val_mae: 16.7418\n",
            "Epoch 425/500\n",
            "1/1 [==============================] - 0s 44ms/step - loss: 3.3121 - mae: 3.7430 - val_loss: 16.4294 - val_mae: 16.9252\n",
            "Epoch 426/500\n",
            "1/1 [==============================] - 0s 44ms/step - loss: 3.3107 - mae: 3.7454 - val_loss: 16.2447 - val_mae: 16.7407\n",
            "Epoch 427/500\n",
            "1/1 [==============================] - 0s 39ms/step - loss: 3.3091 - mae: 3.7398 - val_loss: 16.4211 - val_mae: 16.9168\n",
            "Epoch 428/500\n",
            "1/1 [==============================] - 0s 38ms/step - loss: 3.3072 - mae: 3.7415 - val_loss: 16.2651 - val_mae: 16.7609\n",
            "Epoch 429/500\n",
            "1/1 [==============================] - 0s 40ms/step - loss: 3.3052 - mae: 3.7362 - val_loss: 16.3957 - val_mae: 16.8913\n",
            "Epoch 430/500\n",
            "1/1 [==============================] - 0s 46ms/step - loss: 3.3031 - mae: 3.7368 - val_loss: 16.2986 - val_mae: 16.7943\n",
            "Epoch 431/500\n",
            "1/1 [==============================] - 0s 57ms/step - loss: 3.3011 - mae: 3.7333 - val_loss: 16.3559 - val_mae: 16.8515\n",
            "Epoch 432/500\n",
            "1/1 [==============================] - 0s 60ms/step - loss: 3.2992 - mae: 3.7326 - val_loss: 16.3348 - val_mae: 16.8302\n",
            "Epoch 433/500\n",
            "1/1 [==============================] - 0s 42ms/step - loss: 3.2976 - mae: 3.7306 - val_loss: 16.3184 - val_mae: 16.8137\n",
            "Epoch 434/500\n",
            "1/1 [==============================] - 0s 41ms/step - loss: 3.2963 - mae: 3.7290 - val_loss: 16.3672 - val_mae: 16.8624\n",
            "Epoch 435/500\n",
            "1/1 [==============================] - 0s 49ms/step - loss: 3.2950 - mae: 3.7287 - val_loss: 16.2873 - val_mae: 16.7835\n",
            "Epoch 436/500\n",
            "1/1 [==============================] - 0s 44ms/step - loss: 3.2939 - mae: 3.7261 - val_loss: 16.3902 - val_mae: 16.8852\n",
            "Epoch 437/500\n",
            "1/1 [==============================] - 0s 43ms/step - loss: 3.2930 - mae: 3.7269 - val_loss: 16.2478 - val_mae: 16.7448\n",
            "Epoch 438/500\n",
            "1/1 [==============================] - 0s 42ms/step - loss: 3.2923 - mae: 3.7232 - val_loss: 16.4250 - val_mae: 16.9196\n",
            "Epoch 439/500\n",
            "1/1 [==============================] - 0s 44ms/step - loss: 3.2921 - mae: 3.7268 - val_loss: 16.2020 - val_mae: 16.6997\n",
            "Epoch 440/500\n",
            "1/1 [==============================] - 0s 39ms/step - loss: 3.2923 - mae: 3.7220 - val_loss: 16.4716 - val_mae: 16.9656\n",
            "Epoch 441/500\n",
            "1/1 [==============================] - 0s 40ms/step - loss: 3.2932 - mae: 3.7291 - val_loss: 16.1508 - val_mae: 16.6490\n",
            "Epoch 442/500\n",
            "1/1 [==============================] - 0s 41ms/step - loss: 3.2938 - mae: 3.7223 - val_loss: 16.5056 - val_mae: 16.9991\n",
            "Epoch 443/500\n",
            "1/1 [==============================] - 0s 45ms/step - loss: 3.2944 - mae: 3.7307 - val_loss: 16.1250 - val_mae: 16.6232\n",
            "Epoch 444/500\n",
            "1/1 [==============================] - 0s 44ms/step - loss: 3.2937 - mae: 3.7210 - val_loss: 16.5095 - val_mae: 17.0029\n",
            "Epoch 445/500\n",
            "1/1 [==============================] - 0s 53ms/step - loss: 3.2923 - mae: 3.7288 - val_loss: 16.1335 - val_mae: 16.6318\n",
            "Epoch 446/500\n",
            "1/1 [==============================] - 0s 46ms/step - loss: 3.2897 - mae: 3.7173 - val_loss: 16.4871 - val_mae: 16.9805\n",
            "Epoch 447/500\n",
            "1/1 [==============================] - 0s 46ms/step - loss: 3.2870 - mae: 3.7233 - val_loss: 16.1571 - val_mae: 16.6553\n",
            "Epoch 448/500\n",
            "1/1 [==============================] - 0s 42ms/step - loss: 3.2841 - mae: 3.7128 - val_loss: 16.4547 - val_mae: 16.9482\n",
            "Epoch 449/500\n",
            "1/1 [==============================] - 0s 39ms/step - loss: 3.2816 - mae: 3.7176 - val_loss: 16.1732 - val_mae: 16.6714\n",
            "Epoch 450/500\n",
            "1/1 [==============================] - 0s 43ms/step - loss: 3.2795 - mae: 3.7089 - val_loss: 16.4488 - val_mae: 16.9421\n",
            "Epoch 451/500\n",
            "1/1 [==============================] - 0s 42ms/step - loss: 3.2784 - mae: 3.7141 - val_loss: 16.1655 - val_mae: 16.6638\n",
            "Epoch 452/500\n",
            "1/1 [==============================] - 0s 40ms/step - loss: 3.2775 - mae: 3.7063 - val_loss: 16.4717 - val_mae: 16.9646\n",
            "Epoch 453/500\n",
            "1/1 [==============================] - 0s 45ms/step - loss: 3.2779 - mae: 3.7135 - val_loss: 16.1276 - val_mae: 16.6260\n",
            "Epoch 454/500\n",
            "1/1 [==============================] - 0s 42ms/step - loss: 3.2784 - mae: 3.7057 - val_loss: 16.5150 - val_mae: 17.0073\n",
            "Epoch 455/500\n",
            "1/1 [==============================] - 0s 43ms/step - loss: 3.2807 - mae: 3.7168 - val_loss: 16.0759 - val_mae: 16.5742\n",
            "Epoch 456/500\n",
            "1/1 [==============================] - 0s 45ms/step - loss: 3.2821 - mae: 3.7072 - val_loss: 16.5638 - val_mae: 17.0554\n",
            "Epoch 457/500\n",
            "1/1 [==============================] - 0s 42ms/step - loss: 3.2854 - mae: 3.7217 - val_loss: 16.0454 - val_mae: 16.5436\n",
            "Epoch 458/500\n",
            "1/1 [==============================] - 0s 44ms/step - loss: 3.2847 - mae: 3.7084 - val_loss: 16.5776 - val_mae: 17.0688\n",
            "Epoch 459/500\n",
            "1/1 [==============================] - 0s 45ms/step - loss: 3.2839 - mae: 3.7201 - val_loss: 16.0712 - val_mae: 16.5694\n",
            "Epoch 460/500\n",
            "1/1 [==============================] - 0s 41ms/step - loss: 3.2787 - mae: 3.7029 - val_loss: 16.5338 - val_mae: 17.0255\n",
            "Epoch 461/500\n",
            "1/1 [==============================] - 0s 41ms/step - loss: 3.2747 - mae: 3.7109 - val_loss: 16.1024 - val_mae: 16.6007\n",
            "Epoch 462/500\n",
            "1/1 [==============================] - 0s 46ms/step - loss: 3.2699 - mae: 3.6959 - val_loss: 16.4790 - val_mae: 16.9720\n",
            "Epoch 463/500\n",
            "1/1 [==============================] - 0s 41ms/step - loss: 3.2673 - mae: 3.7029 - val_loss: 16.0977 - val_mae: 16.5959\n",
            "Epoch 464/500\n",
            "1/1 [==============================] - 0s 41ms/step - loss: 3.2654 - mae: 3.6923 - val_loss: 16.4760 - val_mae: 16.9692\n",
            "Epoch 465/500\n",
            "1/1 [==============================] - 0s 42ms/step - loss: 3.2657 - mae: 3.7012 - val_loss: 16.0654 - val_mae: 16.5633\n",
            "Epoch 466/500\n",
            "1/1 [==============================] - 0s 41ms/step - loss: 3.2664 - mae: 3.6921 - val_loss: 16.5362 - val_mae: 17.0273\n",
            "Epoch 467/500\n",
            "1/1 [==============================] - 0s 44ms/step - loss: 3.2713 - mae: 3.7070 - val_loss: 16.0030 - val_mae: 16.5002\n",
            "Epoch 468/500\n",
            "1/1 [==============================] - 0s 55ms/step - loss: 3.2745 - mae: 3.6971 - val_loss: 16.6098 - val_mae: 17.1006\n",
            "Epoch 469/500\n",
            "1/1 [==============================] - 0s 40ms/step - loss: 3.2813 - mae: 3.7173 - val_loss: 15.9618 - val_mae: 16.4582\n",
            "Epoch 470/500\n",
            "1/1 [==============================] - 0s 42ms/step - loss: 3.2804 - mae: 3.7015 - val_loss: 16.6213 - val_mae: 17.1121\n",
            "Epoch 471/500\n",
            "1/1 [==============================] - 0s 44ms/step - loss: 3.2811 - mae: 3.7178 - val_loss: 15.9813 - val_mae: 16.4778\n",
            "Epoch 472/500\n",
            "1/1 [==============================] - 0s 37ms/step - loss: 3.2735 - mae: 3.6951 - val_loss: 16.5718 - val_mae: 17.0624\n",
            "Epoch 473/500\n",
            "1/1 [==============================] - 0s 41ms/step - loss: 3.2697 - mae: 3.7054 - val_loss: 16.0213 - val_mae: 16.5183\n",
            "Epoch 474/500\n",
            "1/1 [==============================] - 0s 41ms/step - loss: 3.2621 - mae: 3.6857 - val_loss: 16.5223 - val_mae: 17.0144\n",
            "Epoch 475/500\n",
            "1/1 [==============================] - 0s 42ms/step - loss: 3.2602 - mae: 3.6961 - val_loss: 16.0222 - val_mae: 16.5192\n",
            "Epoch 476/500\n",
            "1/1 [==============================] - 0s 46ms/step - loss: 3.2573 - mae: 3.6813 - val_loss: 16.5205 - val_mae: 17.0126\n",
            "Epoch 477/500\n",
            "1/1 [==============================] - 0s 45ms/step - loss: 3.2591 - mae: 3.6946 - val_loss: 15.9822 - val_mae: 16.4785\n",
            "Epoch 478/500\n",
            "1/1 [==============================] - 0s 40ms/step - loss: 3.2596 - mae: 3.6823 - val_loss: 16.5626 - val_mae: 17.0531\n",
            "Epoch 479/500\n",
            "1/1 [==============================] - 0s 47ms/step - loss: 3.2653 - mae: 3.7008 - val_loss: 15.9284 - val_mae: 16.4235\n",
            "Epoch 480/500\n",
            "1/1 [==============================] - 0s 44ms/step - loss: 3.2671 - mae: 3.6876 - val_loss: 16.6192 - val_mae: 17.1096\n",
            "Epoch 481/500\n",
            "1/1 [==============================] - 0s 47ms/step - loss: 3.2743 - mae: 3.7118 - val_loss: 15.8943 - val_mae: 16.3890\n",
            "Epoch 482/500\n",
            "1/1 [==============================] - 0s 45ms/step - loss: 3.2729 - mae: 3.6928 - val_loss: 16.6373 - val_mae: 17.1277\n",
            "Epoch 483/500\n",
            "1/1 [==============================] - 0s 41ms/step - loss: 3.2761 - mae: 3.7145 - val_loss: 15.8949 - val_mae: 16.3897\n",
            "Epoch 484/500\n",
            "1/1 [==============================] - 0s 43ms/step - loss: 3.2687 - mae: 3.6886 - val_loss: 16.5995 - val_mae: 17.0892\n",
            "Epoch 485/500\n",
            "1/1 [==============================] - 0s 43ms/step - loss: 3.2666 - mae: 3.7040 - val_loss: 15.9192 - val_mae: 16.4139\n",
            "Epoch 486/500\n",
            "1/1 [==============================] - 0s 45ms/step - loss: 3.2582 - mae: 3.6784 - val_loss: 16.5531 - val_mae: 17.0443\n",
            "Epoch 487/500\n",
            "1/1 [==============================] - 0s 37ms/step - loss: 3.2569 - mae: 3.6928 - val_loss: 15.9230 - val_mae: 16.4176\n",
            "Epoch 488/500\n",
            "1/1 [==============================] - 0s 38ms/step - loss: 3.2527 - mae: 3.6733 - val_loss: 16.5564 - val_mae: 17.0476\n",
            "Epoch 489/500\n",
            "1/1 [==============================] - 0s 40ms/step - loss: 3.2564 - mae: 3.6925 - val_loss: 15.8884 - val_mae: 16.3831\n",
            "Epoch 490/500\n",
            "1/1 [==============================] - 0s 39ms/step - loss: 3.2576 - mae: 3.6778 - val_loss: 16.6168 - val_mae: 17.1063\n",
            "Epoch 491/500\n",
            "1/1 [==============================] - 0s 40ms/step - loss: 3.2676 - mae: 3.7063 - val_loss: 15.8277 - val_mae: 16.3221\n",
            "Epoch 492/500\n",
            "1/1 [==============================] - 0s 44ms/step - loss: 3.2701 - mae: 3.6905 - val_loss: 16.6674 - val_mae: 17.1577\n",
            "Epoch 493/500\n",
            "1/1 [==============================] - 0s 40ms/step - loss: 3.2779 - mae: 3.7193 - val_loss: 15.8054 - val_mae: 16.2996\n",
            "Epoch 494/500\n",
            "1/1 [==============================] - 0s 40ms/step - loss: 3.2729 - mae: 3.6936 - val_loss: 16.6498 - val_mae: 17.1397\n",
            "Epoch 495/500\n",
            "1/1 [==============================] - 0s 39ms/step - loss: 3.2722 - mae: 3.7130 - val_loss: 15.8293 - val_mae: 16.3236\n",
            "Epoch 496/500\n",
            "1/1 [==============================] - 0s 38ms/step - loss: 3.2620 - mae: 3.6823 - val_loss: 16.6067 - val_mae: 17.0963\n",
            "Epoch 497/500\n",
            "1/1 [==============================] - 0s 37ms/step - loss: 3.2605 - mae: 3.6998 - val_loss: 15.8477 - val_mae: 16.3421\n",
            "Epoch 498/500\n",
            "1/1 [==============================] - 0s 42ms/step - loss: 3.2537 - mae: 3.6740 - val_loss: 16.5959 - val_mae: 17.0857\n",
            "Epoch 499/500\n",
            "1/1 [==============================] - 0s 41ms/step - loss: 3.2552 - mae: 3.6941 - val_loss: 15.8501 - val_mae: 16.3444\n",
            "Epoch 500/500\n",
            "1/1 [==============================] - 0s 43ms/step - loss: 3.2516 - mae: 3.6718 - val_loss: 16.6086 - val_mae: 17.0984\n"
          ],
          "name": "stdout"
        }
      ]
    },
    {
      "cell_type": "code",
      "metadata": {
        "id": "PevYE4nBkgr9",
        "colab_type": "code",
        "outputId": "122fb855-2b28-4e4a-c3b1-1be7511c8ea4",
        "colab": {
          "base_uri": "https://localhost:8080/",
          "height": 374
        }
      },
      "source": [
        "# plot history\n",
        "plt.figure(figsize=(10, 6))\n",
        "plt.plot(history.history['loss'], label='train')\n",
        "plt.plot(history.history['val_loss'], label='test')\n",
        "plt.legend()\n",
        "plt.show()"
      ],
      "execution_count": 0,
      "outputs": [
        {
          "output_type": "display_data",
          "data": {
            "image/png": "[encoded data removed]",
            "text/plain": [
              "<Figure size 720x432 with 1 Axes>"
            ]
          },
          "metadata": {
            "tags": []
          }
        }
      ]
    },
    {
      "cell_type": "code",
      "metadata": {
        "id": "dTUML9GVk6sI",
        "colab_type": "code",
        "colab": {}
      },
      "source": [
        "# decide model params\n",
        "NUM_EPOCHS = 100\n",
        "OPTIMIZER = tf.keras.optimizers.SGD(lr=1e-5, momentum=0.9)"
      ],
      "execution_count": 0,
      "outputs": []
    },
    {
      "cell_type": "markdown",
      "metadata": {
        "id": "-HJD9aTwk0Xv",
        "colab_type": "text"
      },
      "source": [
        "#### Final fixed-partition model"
      ]
    },
    {
      "cell_type": "code",
      "metadata": {
        "id": "B5xYp_j-lRZb",
        "colab_type": "code",
        "outputId": "664827b8-507a-4203-fb71-dae248e541dd",
        "colab": {
          "base_uri": "https://localhost:8080/",
          "height": 1000
        }
      },
      "source": [
        "# re-run with chosen params\n",
        "tf.keras.backend.clear_session()\n",
        "tf.random.set_seed(51)\n",
        "np.random.seed(51)\n",
        "\n",
        "train_set = windowed_dataset(x_train, window_size=12, batch_size=30, shuffle_buffer=shuffle_buffer_size)\n",
        "test_set = windowed_dataset(x_valid, window_size=12, batch_size=30, shuffle_buffer=shuffle_buffer_size)\n",
        "\n",
        "model = tf.keras.models.Sequential([\n",
        "  tf.keras.layers.Conv1D(filters=60, kernel_size=5,\n",
        "                      strides=1, padding=\"causal\",\n",
        "                      activation=\"relu\",\n",
        "                      input_shape=[None, 1]),\n",
        "  tf.keras.layers.LSTM(60, return_sequences=True),\n",
        "  tf.keras.layers.LSTM(60, return_sequences=True),\n",
        "  tf.keras.layers.Dense(30, activation=\"relu\"),\n",
        "  tf.keras.layers.Dense(10, activation=\"relu\"),\n",
        "  tf.keras.layers.Dense(1),\n",
        "  tf.keras.layers.Lambda(lambda x: x * 400)\n",
        "])\n",
        "\n",
        "\n",
        "model.compile(loss=tf.keras.losses.Huber(),\n",
        "              optimizer=OPTIMIZER,\n",
        "              metrics=[\"mae\"])\n",
        "history = model.fit(train_set,epochs=NUM_EPOCHS,validation_data=test_set)"
      ],
      "execution_count": 0,
      "outputs": [
        {
          "output_type": "stream",
          "text": [
            "Epoch 1/100\n",
            "1/1 [==============================] - 3s 3s/step - loss: 26.6344 - mae: 27.1315 - val_loss: 40.4384 - val_mae: 40.9373\n",
            "Epoch 2/100\n",
            "1/1 [==============================] - 0s 46ms/step - loss: 13.3089 - mae: 13.7991 - val_loss: 23.1317 - val_mae: 23.6262\n",
            "Epoch 3/100\n",
            "1/1 [==============================] - 0s 44ms/step - loss: 11.2186 - mae: 11.7022 - val_loss: 19.4855 - val_mae: 19.9811\n",
            "Epoch 4/100\n",
            "1/1 [==============================] - 0s 40ms/step - loss: 16.8372 - mae: 17.3295 - val_loss: 17.9912 - val_mae: 18.4886\n",
            "Epoch 5/100\n",
            "1/1 [==============================] - 0s 40ms/step - loss: 18.1222 - mae: 18.6207 - val_loss: 16.4538 - val_mae: 16.9496\n",
            "Epoch 6/100\n",
            "1/1 [==============================] - 0s 59ms/step - loss: 14.6545 - mae: 15.1515 - val_loss: 22.3648 - val_mae: 22.8629\n",
            "Epoch 7/100\n",
            "1/1 [==============================] - 0s 47ms/step - loss: 8.7247 - mae: 9.2126 - val_loss: 35.2713 - val_mae: 35.7713\n",
            "Epoch 8/100\n",
            "1/1 [==============================] - 0s 41ms/step - loss: 9.7373 - mae: 10.2236 - val_loss: 41.1009 - val_mae: 41.6009\n",
            "Epoch 9/100\n",
            "1/1 [==============================] - 0s 45ms/step - loss: 13.3237 - mae: 13.8166 - val_loss: 38.0985 - val_mae: 38.5985\n",
            "Epoch 10/100\n",
            "1/1 [==============================] - 0s 43ms/step - loss: 11.3526 - mae: 11.8413 - val_loss: 28.7967 - val_mae: 29.2967\n",
            "Epoch 11/100\n",
            "1/1 [==============================] - 0s 41ms/step - loss: 7.2984 - mae: 7.7814 - val_loss: 19.9520 - val_mae: 20.4452\n",
            "Epoch 12/100\n",
            "1/1 [==============================] - 0s 50ms/step - loss: 8.5167 - mae: 9.0066 - val_loss: 16.9425 - val_mae: 17.4358\n",
            "Epoch 13/100\n",
            "1/1 [==============================] - 0s 39ms/step - loss: 9.8084 - mae: 10.2971 - val_loss: 17.0004 - val_mae: 17.4937\n",
            "Epoch 14/100\n",
            "1/1 [==============================] - 0s 40ms/step - loss: 8.9253 - mae: 9.4114 - val_loss: 19.4794 - val_mae: 19.9769\n",
            "Epoch 15/100\n",
            "1/1 [==============================] - 0s 39ms/step - loss: 7.1310 - mae: 7.6163 - val_loss: 23.8223 - val_mae: 24.3223\n",
            "Epoch 16/100\n",
            "1/1 [==============================] - 0s 43ms/step - loss: 6.9690 - mae: 7.4425 - val_loss: 26.7638 - val_mae: 27.2608\n",
            "Epoch 17/100\n",
            "1/1 [==============================] - 0s 41ms/step - loss: 7.7619 - mae: 8.2499 - val_loss: 26.5639 - val_mae: 27.0637\n",
            "Epoch 18/100\n",
            "1/1 [==============================] - 0s 43ms/step - loss: 7.2446 - mae: 7.7317 - val_loss: 24.2924 - val_mae: 24.7924\n",
            "Epoch 19/100\n",
            "1/1 [==============================] - 0s 44ms/step - loss: 6.4101 - mae: 6.8903 - val_loss: 21.6969 - val_mae: 22.1930\n",
            "Epoch 20/100\n",
            "1/1 [==============================] - 0s 42ms/step - loss: 6.5950 - mae: 7.0711 - val_loss: 20.2128 - val_mae: 20.7109\n",
            "Epoch 21/100\n",
            "1/1 [==============================] - 0s 44ms/step - loss: 7.0195 - mae: 7.5003 - val_loss: 20.2441 - val_mae: 20.7408\n",
            "Epoch 22/100\n",
            "1/1 [==============================] - 0s 39ms/step - loss: 7.0222 - mae: 7.5076 - val_loss: 21.4523 - val_mae: 21.9495\n",
            "Epoch 23/100\n",
            "1/1 [==============================] - 0s 41ms/step - loss: 6.7263 - mae: 7.2113 - val_loss: 23.0756 - val_mae: 23.5720\n",
            "Epoch 24/100\n",
            "1/1 [==============================] - 0s 44ms/step - loss: 6.5276 - mae: 7.0103 - val_loss: 23.8376 - val_mae: 24.3326\n",
            "Epoch 25/100\n",
            "1/1 [==============================] - 0s 42ms/step - loss: 6.5302 - mae: 7.0192 - val_loss: 23.1163 - val_mae: 23.6116\n",
            "Epoch 26/100\n",
            "1/1 [==============================] - 0s 41ms/step - loss: 6.3721 - mae: 6.8551 - val_loss: 21.1629 - val_mae: 21.6628\n",
            "Epoch 27/100\n",
            "1/1 [==============================] - 0s 39ms/step - loss: 6.0971 - mae: 6.5797 - val_loss: 19.1328 - val_mae: 19.6308\n",
            "Epoch 28/100\n",
            "1/1 [==============================] - 0s 42ms/step - loss: 6.1248 - mae: 6.6116 - val_loss: 18.1698 - val_mae: 18.6638\n",
            "Epoch 29/100\n",
            "1/1 [==============================] - 0s 51ms/step - loss: 6.1856 - mae: 6.6675 - val_loss: 18.5342 - val_mae: 19.0304\n",
            "Epoch 30/100\n",
            "1/1 [==============================] - 0s 43ms/step - loss: 5.9743 - mae: 6.4580 - val_loss: 19.6265 - val_mae: 20.1235\n",
            "Epoch 31/100\n",
            "1/1 [==============================] - 0s 39ms/step - loss: 5.8356 - mae: 6.3190 - val_loss: 20.0980 - val_mae: 20.5953\n",
            "Epoch 32/100\n",
            "1/1 [==============================] - 0s 42ms/step - loss: 5.8835 - mae: 6.3694 - val_loss: 19.2754 - val_mae: 19.7740\n",
            "Epoch 33/100\n",
            "1/1 [==============================] - 0s 42ms/step - loss: 5.7227 - mae: 6.2074 - val_loss: 17.6750 - val_mae: 18.1688\n",
            "Epoch 34/100\n",
            "1/1 [==============================] - 0s 39ms/step - loss: 5.5951 - mae: 6.0646 - val_loss: 16.6318 - val_mae: 17.1305\n",
            "Epoch 35/100\n",
            "1/1 [==============================] - 0s 42ms/step - loss: 5.6958 - mae: 6.1747 - val_loss: 16.8064 - val_mae: 17.3063\n",
            "Epoch 36/100\n",
            "1/1 [==============================] - 0s 47ms/step - loss: 5.6345 - mae: 6.1101 - val_loss: 17.8335 - val_mae: 18.3290\n",
            "Epoch 37/100\n",
            "1/1 [==============================] - 0s 57ms/step - loss: 5.5603 - mae: 6.0384 - val_loss: 18.6554 - val_mae: 19.1516\n",
            "Epoch 38/100\n",
            "1/1 [==============================] - 0s 44ms/step - loss: 5.6137 - mae: 6.0914 - val_loss: 18.5364 - val_mae: 19.0354\n",
            "Epoch 39/100\n",
            "1/1 [==============================] - 0s 42ms/step - loss: 5.5649 - mae: 6.0425 - val_loss: 17.6351 - val_mae: 18.1344\n",
            "Epoch 40/100\n",
            "1/1 [==============================] - 0s 42ms/step - loss: 5.4569 - mae: 5.9268 - val_loss: 16.8835 - val_mae: 17.3832\n",
            "Epoch 41/100\n",
            "1/1 [==============================] - 0s 40ms/step - loss: 5.4796 - mae: 5.9552 - val_loss: 16.9924 - val_mae: 17.4923\n",
            "Epoch 42/100\n",
            "1/1 [==============================] - 0s 41ms/step - loss: 5.4443 - mae: 5.9200 - val_loss: 17.8835 - val_mae: 18.3818\n",
            "Epoch 43/100\n",
            "1/1 [==============================] - 0s 41ms/step - loss: 5.3599 - mae: 5.8345 - val_loss: 18.8398 - val_mae: 19.3338\n",
            "Epoch 44/100\n",
            "1/1 [==============================] - 0s 50ms/step - loss: 5.3762 - mae: 5.8506 - val_loss: 19.0093 - val_mae: 19.5022\n",
            "Epoch 45/100\n",
            "1/1 [==============================] - 0s 59ms/step - loss: 5.3503 - mae: 5.8239 - val_loss: 18.4626 - val_mae: 18.9621\n",
            "Epoch 46/100\n",
            "1/1 [==============================] - 0s 41ms/step - loss: 5.2860 - mae: 5.7626 - val_loss: 18.0639 - val_mae: 18.5610\n",
            "Epoch 47/100\n",
            "1/1 [==============================] - 0s 40ms/step - loss: 5.3041 - mae: 5.7685 - val_loss: 18.4703 - val_mae: 18.9678\n",
            "Epoch 48/100\n",
            "1/1 [==============================] - 0s 43ms/step - loss: 5.2582 - mae: 5.7254 - val_loss: 19.3513 - val_mae: 19.8449\n",
            "Epoch 49/100\n",
            "1/1 [==============================] - 0s 41ms/step - loss: 5.2322 - mae: 5.6996 - val_loss: 19.7685 - val_mae: 20.2657\n",
            "Epoch 50/100\n",
            "1/1 [==============================] - 0s 43ms/step - loss: 5.2376 - mae: 5.7131 - val_loss: 19.3651 - val_mae: 19.8584\n",
            "Epoch 51/100\n",
            "1/1 [==============================] - 0s 44ms/step - loss: 5.1873 - mae: 5.6508 - val_loss: 18.6647 - val_mae: 19.1590\n",
            "Epoch 52/100\n",
            "1/1 [==============================] - 0s 51ms/step - loss: 5.1705 - mae: 5.6442 - val_loss: 18.4847 - val_mae: 18.9797\n",
            "Epoch 53/100\n",
            "1/1 [==============================] - 0s 60ms/step - loss: 5.1524 - mae: 5.6261 - val_loss: 18.8605 - val_mae: 19.3543\n",
            "Epoch 54/100\n",
            "1/1 [==============================] - 0s 57ms/step - loss: 5.1095 - mae: 5.5693 - val_loss: 19.0684 - val_mae: 19.5609\n",
            "Epoch 55/100\n",
            "1/1 [==============================] - 0s 44ms/step - loss: 5.1073 - mae: 5.5665 - val_loss: 18.6180 - val_mae: 19.1151\n",
            "Epoch 56/100\n",
            "1/1 [==============================] - 0s 48ms/step - loss: 5.0667 - mae: 5.5267 - val_loss: 18.0254 - val_mae: 18.5240\n",
            "Epoch 57/100\n",
            "1/1 [==============================] - 0s 39ms/step - loss: 5.0550 - mae: 5.5161 - val_loss: 17.9342 - val_mae: 18.4337\n",
            "Epoch 58/100\n",
            "1/1 [==============================] - 0s 48ms/step - loss: 5.0291 - mae: 5.4862 - val_loss: 18.1849 - val_mae: 18.6830\n",
            "Epoch 59/100\n",
            "1/1 [==============================] - 0s 52ms/step - loss: 5.0133 - mae: 5.4699 - val_loss: 18.0786 - val_mae: 18.5776\n",
            "Epoch 60/100\n",
            "1/1 [==============================] - 0s 45ms/step - loss: 5.0014 - mae: 5.4575 - val_loss: 17.6477 - val_mae: 18.1477\n",
            "Epoch 61/100\n",
            "1/1 [==============================] - 0s 39ms/step - loss: 4.9832 - mae: 5.4453 - val_loss: 17.5503 - val_mae: 18.0503\n",
            "Epoch 62/100\n",
            "1/1 [==============================] - 0s 39ms/step - loss: 4.9754 - mae: 5.4421 - val_loss: 17.8898 - val_mae: 18.3897\n",
            "Epoch 63/100\n",
            "1/1 [==============================] - 0s 41ms/step - loss: 4.9540 - mae: 5.4092 - val_loss: 18.0938 - val_mae: 18.5932\n",
            "Epoch 64/100\n",
            "1/1 [==============================] - 0s 43ms/step - loss: 4.9480 - mae: 5.4025 - val_loss: 17.9300 - val_mae: 18.4299\n",
            "Epoch 65/100\n",
            "1/1 [==============================] - 0s 44ms/step - loss: 4.9262 - mae: 5.3868 - val_loss: 17.8031 - val_mae: 18.3031\n",
            "Epoch 66/100\n",
            "1/1 [==============================] - 0s 38ms/step - loss: 4.9207 - mae: 5.3853 - val_loss: 18.0251 - val_mae: 18.5248\n",
            "Epoch 67/100\n",
            "1/1 [==============================] - 0s 40ms/step - loss: 4.9026 - mae: 5.3686 - val_loss: 18.3063 - val_mae: 18.8023\n",
            "Epoch 68/100\n",
            "1/1 [==============================] - 0s 38ms/step - loss: 4.8963 - mae: 5.3637 - val_loss: 18.2587 - val_mae: 18.7551\n",
            "Epoch 69/100\n",
            "1/1 [==============================] - 0s 46ms/step - loss: 4.8818 - mae: 5.3514 - val_loss: 18.0532 - val_mae: 18.5520\n",
            "Epoch 70/100\n",
            "1/1 [==============================] - 0s 42ms/step - loss: 4.8727 - mae: 5.3384 - val_loss: 18.0741 - val_mae: 18.5723\n",
            "Epoch 71/100\n",
            "1/1 [==============================] - 0s 40ms/step - loss: 4.8611 - mae: 5.3272 - val_loss: 18.2713 - val_mae: 18.7657\n",
            "Epoch 72/100\n",
            "1/1 [==============================] - 0s 58ms/step - loss: 4.8485 - mae: 5.3193 - val_loss: 18.2589 - val_mae: 18.7530\n",
            "Epoch 73/100\n",
            "1/1 [==============================] - 0s 69ms/step - loss: 4.8374 - mae: 5.3077 - val_loss: 17.9983 - val_mae: 18.4965\n",
            "Epoch 74/100\n",
            "1/1 [==============================] - 0s 44ms/step - loss: 4.8229 - mae: 5.2905 - val_loss: 17.8582 - val_mae: 18.3577\n",
            "Epoch 75/100\n",
            "1/1 [==============================] - 0s 43ms/step - loss: 4.8116 - mae: 5.2763 - val_loss: 17.9190 - val_mae: 18.4179\n",
            "Epoch 76/100\n",
            "1/1 [==============================] - 0s 37ms/step - loss: 4.7975 - mae: 5.2644 - val_loss: 17.8672 - val_mae: 18.3665\n",
            "Epoch 77/100\n",
            "1/1 [==============================] - 0s 38ms/step - loss: 4.7874 - mae: 5.2531 - val_loss: 17.6228 - val_mae: 18.1227\n",
            "Epoch 78/100\n",
            "1/1 [==============================] - 0s 54ms/step - loss: 4.7751 - mae: 5.2353 - val_loss: 17.4881 - val_mae: 17.9881\n",
            "Epoch 79/100\n",
            "1/1 [==============================] - 0s 44ms/step - loss: 4.7660 - mae: 5.2218 - val_loss: 17.5483 - val_mae: 18.0483\n",
            "Epoch 80/100\n",
            "1/1 [==============================] - 0s 47ms/step - loss: 4.7543 - mae: 5.2129 - val_loss: 17.5673 - val_mae: 18.0672\n",
            "Epoch 81/100\n",
            "1/1 [==============================] - 0s 39ms/step - loss: 4.7449 - mae: 5.2057 - val_loss: 17.4456 - val_mae: 17.9449\n",
            "Epoch 82/100\n",
            "1/1 [==============================] - 0s 40ms/step - loss: 4.7330 - mae: 5.1882 - val_loss: 17.3846 - val_mae: 17.8831\n",
            "Epoch 83/100\n",
            "1/1 [==============================] - 0s 42ms/step - loss: 4.7228 - mae: 5.1758 - val_loss: 17.4865 - val_mae: 17.9856\n",
            "Epoch 84/100\n",
            "1/1 [==============================] - 0s 40ms/step - loss: 4.7102 - mae: 5.1668 - val_loss: 17.5789 - val_mae: 18.0780\n",
            "Epoch 85/100\n",
            "1/1 [==============================] - 0s 39ms/step - loss: 4.6994 - mae: 5.1595 - val_loss: 17.5428 - val_mae: 18.0416\n",
            "Epoch 86/100\n",
            "1/1 [==============================] - 0s 45ms/step - loss: 4.6876 - mae: 5.1446 - val_loss: 17.5200 - val_mae: 18.0182\n",
            "Epoch 87/100\n",
            "1/1 [==============================] - 0s 43ms/step - loss: 4.6774 - mae: 5.1324 - val_loss: 17.5994 - val_mae: 18.0973\n",
            "Epoch 88/100\n",
            "1/1 [==============================] - 0s 42ms/step - loss: 4.6662 - mae: 5.1249 - val_loss: 17.6359 - val_mae: 18.1333\n",
            "Epoch 89/100\n",
            "1/1 [==============================] - 0s 42ms/step - loss: 4.6559 - mae: 5.1162 - val_loss: 17.5538 - val_mae: 18.0504\n",
            "Epoch 90/100\n",
            "1/1 [==============================] - 0s 40ms/step - loss: 4.6446 - mae: 5.1016 - val_loss: 17.5015 - val_mae: 17.9968\n",
            "Epoch 91/100\n",
            "1/1 [==============================] - 0s 41ms/step - loss: 4.6340 - mae: 5.0902 - val_loss: 17.5256 - val_mae: 18.0203\n",
            "Epoch 92/100\n",
            "1/1 [==============================] - 0s 41ms/step - loss: 4.6233 - mae: 5.0812 - val_loss: 17.4987 - val_mae: 17.9921\n",
            "Epoch 93/100\n",
            "1/1 [==============================] - 0s 44ms/step - loss: 4.6133 - mae: 5.0715 - val_loss: 17.4198 - val_mae: 17.9107\n",
            "Epoch 94/100\n",
            "1/1 [==============================] - 0s 39ms/step - loss: 4.6034 - mae: 5.0609 - val_loss: 17.4077 - val_mae: 17.8983\n",
            "Epoch 95/100\n",
            "1/1 [==============================] - 0s 41ms/step - loss: 4.5936 - mae: 5.0513 - val_loss: 17.4504 - val_mae: 17.9404\n",
            "Epoch 96/100\n",
            "1/1 [==============================] - 0s 48ms/step - loss: 4.5840 - mae: 5.0419 - val_loss: 17.4426 - val_mae: 17.9321\n",
            "Epoch 97/100\n",
            "1/1 [==============================] - 0s 44ms/step - loss: 4.5744 - mae: 5.0320 - val_loss: 17.4093 - val_mae: 17.8982\n",
            "Epoch 98/100\n",
            "1/1 [==============================] - 0s 41ms/step - loss: 4.5650 - mae: 5.0222 - val_loss: 17.4345 - val_mae: 17.9226\n",
            "Epoch 99/100\n",
            "1/1 [==============================] - 0s 46ms/step - loss: 4.5557 - mae: 5.0128 - val_loss: 17.4592 - val_mae: 17.9471\n",
            "Epoch 100/100\n",
            "1/1 [==============================] - 0s 47ms/step - loss: 4.5467 - mae: 5.0033 - val_loss: 17.4129 - val_mae: 17.9006\n"
          ],
          "name": "stdout"
        }
      ]
    },
    {
      "cell_type": "code",
      "metadata": {
        "id": "T2QadFT5l-lA",
        "colab_type": "code",
        "outputId": "56ac92e2-76f9-4b7f-a953-878dbbda866d",
        "colab": {
          "base_uri": "https://localhost:8080/",
          "height": 374
        }
      },
      "source": [
        "plt.figure(figsize=(10, 6))\n",
        "plt.plot(history.history['loss'], label='train')\n",
        "plt.plot(history.history['val_loss'], label='test')\n",
        "plt.legend()\n",
        "plt.show()"
      ],
      "execution_count": 0,
      "outputs": [
        {
          "output_type": "display_data",
          "data": {
            "image/png": "[encoded data removed]",
            "text/plain": [
              "<Figure size 720x432 with 1 Axes>"
            ]
          },
          "metadata": {
            "tags": []
          }
        }
      ]
    },
    {
      "cell_type": "markdown",
      "metadata": {
        "id": "NllY36Z4mNva",
        "colab_type": "text"
      },
      "source": [
        "#### Forecasts using rolling test data"
      ]
    },
    {
      "cell_type": "code",
      "metadata": {
        "id": "Y9zj_qOBUIug",
        "colab_type": "code",
        "outputId": "fafa5ea6-cb38-4aa5-c230-068ba1c4ad6f",
        "colab": {
          "base_uri": "https://localhost:8080/",
          "height": 54
        }
      },
      "source": [
        "rnn_forecast = model_forecast(model, series[..., np.newaxis], window_size)\n",
        "print(rnn_forecast.shape)\n",
        "rnn_forecast = rnn_forecast[split_time - window_size:-1, -1, 0]\n",
        "print(rnn_forecast.shape)"
      ],
      "execution_count": 0,
      "outputs": [
        {
          "output_type": "stream",
          "text": [
            "(51, 12, 1)\n",
            "(23,)\n"
          ],
          "name": "stdout"
        }
      ]
    },
    {
      "cell_type": "code",
      "metadata": {
        "id": "dtMzBsW9tAaA",
        "colab_type": "code",
        "outputId": "a37bc82f-236e-4695-b834-1810909233f4",
        "colab": {
          "base_uri": "https://localhost:8080/",
          "height": 36
        }
      },
      "source": [
        "n"
      ],
      "execution_count": 0,
      "outputs": [
        {
          "output_type": "execute_result",
          "data": {
            "text/plain": [
              "62"
            ]
          },
          "metadata": {
            "tags": []
          },
          "execution_count": 39
        }
      ]
    },
    {
      "cell_type": "code",
      "metadata": {
        "id": "hTfjKD_jURsL",
        "colab_type": "code",
        "outputId": "73422038-38be-4d80-962e-f3cec682b903",
        "colab": {
          "base_uri": "https://localhost:8080/",
          "height": 388
        }
      },
      "source": [
        "plt.figure(figsize=(10, 6))\n",
        "plot_series(time_valid, x_valid)\n",
        "plot_series(time_valid, rnn_forecast)"
      ],
      "execution_count": 0,
      "outputs": [
        {
          "output_type": "display_data",
          "data": {
            "image/png": "[encoded data removed]",
            "text/plain": [
              "<Figure size 720x432 with 1 Axes>"
            ]
          },
          "metadata": {
            "tags": []
          }
        }
      ]
    },
    {
      "cell_type": "code",
      "metadata": {
        "id": "wJj3iSCgUXHh",
        "colab_type": "code",
        "outputId": "000570cb-082b-4f8a-a380-c5a66e342e57",
        "colab": {
          "base_uri": "https://localhost:8080/",
          "height": 36
        }
      },
      "source": [
        "mae = tf.keras.metrics.mean_absolute_error(x_valid, rnn_forecast).numpy()\n",
        "mae"
      ],
      "execution_count": 0,
      "outputs": [
        {
          "output_type": "execute_result",
          "data": {
            "text/plain": [
              "11.477638"
            ]
          },
          "metadata": {
            "tags": []
          },
          "execution_count": 41
        }
      ]
    },
    {
      "cell_type": "markdown",
      "metadata": {
        "id": "UQPIbeY2mQb3",
        "colab_type": "text"
      },
      "source": [
        "#### Forecasts with no knowledge of test data (TODO fix, not sure if working correctly)"
      ]
    },
    {
      "cell_type": "code",
      "metadata": {
        "id": "0J_MHzCvmZGm",
        "colab_type": "code",
        "colab": {}
      },
      "source": [
        "# my own forecast function (doesn't use test data)\n",
        "def my_forecast(model, x_train, window_size, n_steps):\n",
        "  forecast = []\n",
        "  for i in range(n_steps):\n",
        "    concat = np.concatenate((x_train, forecast))\n",
        "    window = concat[len(concat) - window_size:]\n",
        "    window = window.reshape((len(window),1))\n",
        "\n",
        "    # make forecast\n",
        "    #forecast.append(model.predict(window)[0,0])\n",
        "    forecast.append(model_forecast(model, window, window_size)[0,-1,0])\n",
        "  return forecast\n",
        "\n",
        "'''\n",
        "# debugging\n",
        "forecast = []\n",
        "i = 0\n",
        "concat = np.concatenate((x_train,forecast))\n",
        "window = concat[len(concat) - window_size:]\n",
        "w2 = window.reshape((len(window),1))\n",
        "model_forecast(model,w2,window_size)\n",
        "#model.predict(window)\n",
        "'''\n",
        "\n",
        "#model_forecast(model, series[..., np.newaxis], window_size)\n",
        "#model.predict(x_train[len(x_train) - window_size:][..., np.newaxis])\n",
        "\n",
        "\n",
        "my_result = my_forecast(model,x_train,window_size,n_fore)"
      ],
      "execution_count": 0,
      "outputs": []
    },
    {
      "cell_type": "code",
      "metadata": {
        "id": "cd5WFpMsuNED",
        "colab_type": "code",
        "outputId": "3f4babd8-c97b-4d59-9254-89786f8eaf51",
        "colab": {
          "base_uri": "https://localhost:8080/",
          "height": 388
        }
      },
      "source": [
        "plt.figure(figsize=(10, 6))\n",
        "plot_series(time_valid, x_valid)\n",
        "plot_series(time_valid, my_result)"
      ],
      "execution_count": 0,
      "outputs": [
        {
          "output_type": "display_data",
          "data": {
            "image/png": "[encoded data removed]",
            "text/plain": [
              "<Figure size 720x432 with 1 Axes>"
            ]
          },
          "metadata": {
            "tags": []
          }
        }
      ]
    },
    {
      "cell_type": "code",
      "metadata": {
        "id": "HkWFpB83uRAQ",
        "colab_type": "code",
        "outputId": "902c0742-a4bd-4749-aea3-ab76d59d0448",
        "colab": {
          "base_uri": "https://localhost:8080/",
          "height": 36
        }
      },
      "source": [
        "mae = tf.keras.metrics.mean_absolute_error(x_valid, my_result).numpy()\n",
        "mae"
      ],
      "execution_count": 0,
      "outputs": [
        {
          "output_type": "execute_result",
          "data": {
            "text/plain": [
              "11.662255"
            ]
          },
          "metadata": {
            "tags": []
          },
          "execution_count": 44
        }
      ]
    },
    {
      "cell_type": "markdown",
      "metadata": {
        "id": "_nKvBJesPyFt",
        "colab_type": "text"
      },
      "source": [
        "## Rolling Window"
      ]
    },
    {
      "cell_type": "code",
      "metadata": {
        "id": "nFDYZKAqUNyz",
        "colab_type": "code",
        "outputId": "c1cfdad6-e09a-4589-9e08-be094d5bbcd4",
        "colab": {
          "base_uri": "https://localhost:8080/",
          "height": 36
        }
      },
      "source": [
        "# forecasts with rolling window\n",
        "\n",
        "n = time.shape[0]\n",
        "\n",
        "train_size = 24\n",
        "horizon = [6, 12, 23] # forecast for multiple horizons\n",
        "#num_windows = n - train_size - horizon   # ERROR - should have + 1\n",
        "num_windows = []\n",
        "for h in horizon:\n",
        "  num_windows.append(n - train_size - h + 1) # FIXED\n",
        "print(num_windows)"
      ],
      "execution_count": 0,
      "outputs": [
        {
          "output_type": "stream",
          "text": [
            "[33, 27, 16]\n"
          ],
          "name": "stdout"
        }
      ]
    },
    {
      "cell_type": "code",
      "metadata": {
        "id": "AHcCyVKRUNy2",
        "colab_type": "code",
        "outputId": "40588391-82fe-41fa-b0e1-6b1a20100a38",
        "colab": {
          "base_uri": "https://localhost:8080/",
          "height": 36
        }
      },
      "source": [
        "range(max(num_windows))"
      ],
      "execution_count": 0,
      "outputs": [
        {
          "output_type": "execute_result",
          "data": {
            "text/plain": [
              "range(0, 33)"
            ]
          },
          "metadata": {
            "tags": []
          },
          "execution_count": 48
        }
      ]
    },
    {
      "cell_type": "code",
      "metadata": {
        "id": "bXGPA6-zUNzG",
        "colab_type": "code",
        "outputId": "47290533-ff13-4660-abc1-4c598a501034",
        "colab": {
          "base_uri": "https://localhost:8080/",
          "height": 36
        }
      },
      "source": [
        "#mae_list=[]\n",
        "mae_list = [] \n",
        "for h in horizon:\n",
        "  mae_list.append([]) # store mae lists for multiple horizons\n",
        "\n",
        "print(mae_list)"
      ],
      "execution_count": 0,
      "outputs": [
        {
          "output_type": "stream",
          "text": [
            "[[], [], []]\n"
          ],
          "name": "stdout"
        }
      ]
    },
    {
      "cell_type": "code",
      "metadata": {
        "id": "uQpKRgdhfH4z",
        "colab_type": "code",
        "colab": {}
      },
      "source": [
        "start_index_list = range(max(num_windows))"
      ],
      "execution_count": 0,
      "outputs": []
    },
    {
      "cell_type": "code",
      "metadata": {
        "id": "2reLQN6Jt1jo",
        "colab_type": "code",
        "outputId": "b4135f1f-fa44-4bcf-8a3a-ffdf24de11e1",
        "colab": {
          "base_uri": "https://localhost:8080/",
          "height": 1000
        }
      },
      "source": [
        "# new loop, use multiple horizons\n",
        "\n",
        "for start_index in start_index_list:\n",
        "    split_time = start_index + train_size \n",
        "    time_train = time[start_index:split_time] # FIXED\n",
        "    x_train = series[start_index:split_time] # FIXED\n",
        "\n",
        "    # validate for multiple horizons\n",
        "    time_valid = [] \n",
        "    x_valid = []\n",
        "    for h in horizon:\n",
        "      time_valid.append(time[split_time:split_time+h])\n",
        "      x_valid.append(series[split_time:split_time+h])\n",
        "    \n",
        "    # setup model\n",
        "    tf.keras.backend.clear_session()\n",
        "    tf.random.set_seed(51)\n",
        "    np.random.seed(51)\n",
        "\n",
        "    train_set = windowed_dataset(x_train, window_size=12, batch_size=30, shuffle_buffer=shuffle_buffer_size)\n",
        "\n",
        "    model = tf.keras.models.Sequential([\n",
        "      tf.keras.layers.Conv1D(filters=60, kernel_size=5,\n",
        "                          strides=1, padding=\"causal\",\n",
        "                          activation=\"relu\",\n",
        "                          input_shape=[None, 1]),\n",
        "      tf.keras.layers.LSTM(60, return_sequences=True),\n",
        "      tf.keras.layers.LSTM(60, return_sequences=True),\n",
        "      tf.keras.layers.Dense(30, activation=\"relu\"),\n",
        "      tf.keras.layers.Dense(10, activation=\"relu\"),\n",
        "      tf.keras.layers.Dense(1),\n",
        "      tf.keras.layers.Lambda(lambda x: x * 400)\n",
        "    ])\n",
        "\n",
        "    model.compile(loss=tf.keras.losses.Huber(),\n",
        "                  optimizer=OPTIMIZER,\n",
        "                  metrics=[\"mae\"])\n",
        "    history = model.fit(train_set,epochs=NUM_EPOCHS,verbose=0)\n",
        "\n",
        "    # get forecasts for multiple horizons\n",
        "    results_h = []\n",
        "    for h in horizon:\n",
        "      results_h.append([])\n",
        "\n",
        "    # make a bunch of forecasts\n",
        "    rnn_forecast = model_forecast(model, series[..., np.newaxis], window_size)\n",
        "    rnn_forecast = rnn_forecast[split_time - window_size:-1, -1, 0]\n",
        "    \n",
        "    # narrow down to correct indices for horizon\n",
        "    for i in range(len(horizon)):\n",
        "      if start_index < num_windows[i]: # don't add forecasts (or MAE) if past the number of windows for that test set size\n",
        "        results_h[i] = rnn_forecast[:horizon[i]]\n",
        "        mae_CNN_LSTM=tf.keras.metrics.mean_absolute_error(x_valid[i], results_h[i]).numpy()\n",
        "        mae_list[i].append(mae_CNN_LSTM)\n",
        "        print(\"horizon \" + str(horizon[i]) + \" MAE: \" + str(mae_CNN_LSTM))\n",
        "    \n",
        "    print(start_index)"
      ],
      "execution_count": 0,
      "outputs": [
        {
          "output_type": "stream",
          "text": [
            "horizon 6 MAE: 7.670901\n",
            "horizon 12 MAE: 8.787738\n",
            "horizon 23 MAE: 11.082567\n",
            "0\n",
            "horizon 6 MAE: 10.328098\n",
            "horizon 12 MAE: 13.356135\n",
            "horizon 23 MAE: 18.737429\n",
            "1\n",
            "horizon 6 MAE: 11.917239\n",
            "horizon 12 MAE: 14.221234\n",
            "horizon 23 MAE: 18.618122\n",
            "2\n",
            "horizon 6 MAE: 10.807475\n",
            "horizon 12 MAE: 12.114705\n",
            "horizon 23 MAE: 16.08301\n",
            "3\n",
            "horizon 6 MAE: 8.891952\n",
            "horizon 12 MAE: 9.471889\n",
            "horizon 23 MAE: 12.852166\n",
            "4\n",
            "horizon 6 MAE: 6.9419694\n",
            "horizon 12 MAE: 7.8268332\n",
            "horizon 23 MAE: 10.025582\n",
            "5\n",
            "horizon 6 MAE: 2.9431455\n",
            "horizon 12 MAE: 5.2961135\n",
            "horizon 23 MAE: 6.5493083\n",
            "6\n",
            "horizon 6 MAE: 3.0313454\n",
            "horizon 12 MAE: 4.780829\n",
            "horizon 23 MAE: 6.1436543\n",
            "7\n",
            "horizon 6 MAE: 3.613311\n",
            "horizon 12 MAE: 5.6288967\n",
            "horizon 23 MAE: 6.85219\n",
            "8\n",
            "horizon 6 MAE: 3.957433\n",
            "horizon 12 MAE: 5.3731017\n",
            "horizon 23 MAE: 7.3771853\n",
            "9\n",
            "horizon 6 MAE: 4.470614\n",
            "horizon 12 MAE: 5.979725\n",
            "horizon 23 MAE: 7.711545\n",
            "10\n",
            "horizon 6 MAE: 4.5988464\n",
            "horizon 12 MAE: 6.1524415\n",
            "horizon 23 MAE: 8.293483\n",
            "11\n",
            "horizon 6 MAE: 6.4891515\n",
            "horizon 12 MAE: 6.349163\n",
            "horizon 23 MAE: 8.9561405\n",
            "12\n",
            "horizon 6 MAE: 6.7787185\n",
            "horizon 12 MAE: 7.438393\n",
            "horizon 23 MAE: 9.836847\n",
            "13\n",
            "horizon 6 MAE: 8.053064\n",
            "horizon 12 MAE: 7.208241\n",
            "horizon 23 MAE: 10.623538\n",
            "14\n",
            "horizon 6 MAE: 8.042468\n",
            "horizon 12 MAE: 8.834884\n",
            "horizon 23 MAE: 11.4701\n",
            "15\n",
            "horizon 6 MAE: 7.472942\n",
            "horizon 12 MAE: 9.506585\n",
            "16\n",
            "horizon 6 MAE: 7.9240355\n",
            "horizon 12 MAE: 9.332921\n",
            "17\n",
            "horizon 6 MAE: 6.0146146\n",
            "horizon 12 MAE: 9.110509\n",
            "18\n",
            "horizon 6 MAE: 8.169563\n",
            "horizon 12 MAE: 9.544894\n",
            "19\n",
            "horizon 6 MAE: 6.012684\n",
            "horizon 12 MAE: 9.761754\n",
            "20\n",
            "horizon 6 MAE: 7.592853\n",
            "horizon 12 MAE: 8.339623\n",
            "21\n",
            "horizon 6 MAE: 7.4299197\n",
            "horizon 12 MAE: 10.586156\n",
            "22\n",
            "horizon 6 MAE: 6.7175865\n",
            "horizon 12 MAE: 8.208354\n",
            "23\n",
            "horizon 6 MAE: 11.086661\n",
            "horizon 12 MAE: 10.423798\n",
            "24\n",
            "horizon 6 MAE: 7.3080297\n",
            "horizon 12 MAE: 7.758574\n",
            "25\n",
            "horizon 6 MAE: 10.858596\n",
            "horizon 12 MAE: 8.732204\n",
            "26\n",
            "horizon 6 MAE: 10.193229\n",
            "27\n",
            "horizon 6 MAE: 11.2893\n",
            "28\n",
            "horizon 6 MAE: 10.004853\n",
            "29\n",
            "horizon 6 MAE: 9.173713\n",
            "30\n",
            "horizon 6 MAE: 7.7145824\n",
            "31\n",
            "horizon 6 MAE: 5.1292377\n",
            "32\n"
          ],
          "name": "stdout"
        }
      ]
    },
    {
      "cell_type": "code",
      "metadata": {
        "id": "7VzaFsdhUNzQ",
        "colab_type": "code",
        "outputId": "6adf6d6d-79ac-4ff4-e8cf-daabfc67d6b0",
        "colab": {
          "base_uri": "https://localhost:8080/",
          "height": 168
        }
      },
      "source": [
        "print(num_windows)\n",
        "print(len(mae_list[0])) # should be num_windows[0]\n",
        "print(len(mae_list[1])) # should be num_windows[1]\n",
        "print(len(mae_list[2])) # should be num_windows[2]\n",
        "print(mae_list[0])\n",
        "print(mae_list[1])\n",
        "print(mae_list[2])"
      ],
      "execution_count": 0,
      "outputs": [
        {
          "output_type": "stream",
          "text": [
            "[33, 27, 16]\n",
            "33\n",
            "27\n",
            "16\n",
            "[7.670901, 10.328098, 11.917239, 10.807475, 8.891952, 6.9419694, 2.9431455, 3.0313454, 3.613311, 3.957433, 4.470614, 4.5988464, 6.4891515, 6.7787185, 8.053064, 8.042468, 7.472942, 7.9240355, 6.0146146, 8.169563, 6.012684, 7.592853, 7.4299197, 6.7175865, 11.086661, 7.3080297, 10.858596, 10.193229, 11.2893, 10.004853, 9.173713, 7.7145824, 5.1292377]\n",
            "[8.787738, 13.356135, 14.221234, 12.114705, 9.471889, 7.8268332, 5.2961135, 4.780829, 5.6288967, 5.3731017, 5.979725, 6.1524415, 6.349163, 7.438393, 7.208241, 8.834884, 9.506585, 9.332921, 9.110509, 9.544894, 9.761754, 8.339623, 10.586156, 8.208354, 10.423798, 7.758574, 8.732204]\n",
            "[11.082567, 18.737429, 18.618122, 16.08301, 12.852166, 10.025582, 6.5493083, 6.1436543, 6.85219, 7.3771853, 7.711545, 8.293483, 8.9561405, 9.836847, 10.623538, 11.4701]\n"
          ],
          "name": "stdout"
        }
      ]
    },
    {
      "cell_type": "code",
      "metadata": {
        "id": "EYD5ossUUNzT",
        "colab_type": "code",
        "colab": {}
      },
      "source": [
        "def mean(lst): \n",
        "    return sum(lst) / len(lst) "
      ],
      "execution_count": 0,
      "outputs": []
    },
    {
      "cell_type": "code",
      "metadata": {
        "id": "joNnzxpUUNza",
        "colab_type": "code",
        "colab": {}
      },
      "source": [
        "average_mae = []\n",
        "for i in range(len(horizon)):\n",
        "  average_mae.append(mean(mae_list[i]))"
      ],
      "execution_count": 0,
      "outputs": []
    },
    {
      "cell_type": "code",
      "metadata": {
        "id": "c5lPb3JmUNze",
        "colab_type": "code",
        "outputId": "bf51beb2-9259-439a-b0f6-4f6f0b87e270",
        "colab": {
          "base_uri": "https://localhost:8080/",
          "height": 36
        }
      },
      "source": [
        "average_mae # average MAE for each horizon"
      ],
      "execution_count": 0,
      "outputs": [
        {
          "output_type": "execute_result",
          "data": {
            "text/plain": [
              "[7.534185821359808, 8.523173897354692, 10.700804263353348]"
            ]
          },
          "metadata": {
            "tags": []
          },
          "execution_count": 55
        }
      ]
    },
    {
      "cell_type": "markdown",
      "metadata": {
        "id": "5xH4lzZXia-j",
        "colab_type": "text"
      },
      "source": [
        "## Testing on single iteration (single window)"
      ]
    },
    {
      "cell_type": "code",
      "metadata": {
        "id": "r2lSEyP0UNzh",
        "colab_type": "code",
        "colab": {}
      },
      "source": [
        "start_index = 18"
      ],
      "execution_count": 0,
      "outputs": []
    },
    {
      "cell_type": "code",
      "metadata": {
        "id": "uKlVmyfuUNzk",
        "colab_type": "code",
        "outputId": "c2f597c8-a93a-43f3-9ca7-86f121c0b34e",
        "colab": {
          "base_uri": "https://localhost:8080/",
          "height": 36
        }
      },
      "source": [
        "split_time = start_index + train_size \n",
        "split_time"
      ],
      "execution_count": 0,
      "outputs": [
        {
          "output_type": "execute_result",
          "data": {
            "text/plain": [
              "42"
            ]
          },
          "metadata": {
            "tags": []
          },
          "execution_count": 57
        }
      ]
    },
    {
      "cell_type": "code",
      "metadata": {
        "id": "RSOnOJcqUNzp",
        "colab_type": "code",
        "outputId": "09693b74-d491-4ae1-fc80-0601b67d155b",
        "colab": {
          "base_uri": "https://localhost:8080/",
          "height": 54
        }
      },
      "source": [
        "time_train = time[start_index:split_time]\n",
        "print(time_train)\n",
        "print(len(time_train)) # make sure training set is always 24 points"
      ],
      "execution_count": 0,
      "outputs": [
        {
          "output_type": "stream",
          "text": [
            "[18 19 20 21 22 23 24 25 26 27 28 29 30 31 32 33 34 35 36 37 38 39 40 41]\n",
            "24\n"
          ],
          "name": "stdout"
        }
      ]
    },
    {
      "cell_type": "code",
      "metadata": {
        "id": "ZIXcsXkWUNzv",
        "colab_type": "code",
        "outputId": "a6f2ac78-305b-419c-d2e0-a2b091a0017d",
        "colab": {
          "base_uri": "https://localhost:8080/",
          "height": 92
        }
      },
      "source": [
        "# original code\n",
        "time_train = time[start_index:split_time]\n",
        "x_train = series[start_index:split_time]\n",
        "time_valid = time[split_time:split_time+horizon[2]]\n",
        "x_valid = series[split_time:split_time+horizon[2]]\n",
        "\n",
        "print(time_valid)\n",
        "print(len(time_valid))\n",
        "print(x_valid)\n",
        "\n",
        "# note that if start index >= num_windows, the test set is reduced (so don't include)"
      ],
      "execution_count": 0,
      "outputs": [
        {
          "output_type": "stream",
          "text": [
            "[42 43 44 45 46 47 48 49 50 51 52 53 54 55 56 57 58 59 60 61]\n",
            "20\n",
            "[41. 59. 41. 37. 54. 38. 55. 46. 58. 48. 58. 63. 57. 73. 52. 57. 49. 42.\n",
            " 57. 58.]\n"
          ],
          "name": "stdout"
        }
      ]
    },
    {
      "cell_type": "code",
      "metadata": {
        "id": "tG_UB2hyhSb_",
        "colab_type": "code",
        "outputId": "9a5d043f-bed4-498b-a344-0899cbccc4f8",
        "colab": {
          "base_uri": "https://localhost:8080/",
          "height": 92
        }
      },
      "source": [
        "time_valid = [] # validate for multiple horizons\n",
        "x_valid = []\n",
        "for h in horizon:\n",
        "  time_valid.append(time[split_time:split_time+h])\n",
        "  x_valid.append(series[split_time:split_time+h])\n",
        "\n",
        "print(time_valid)\n",
        "print(x_valid)"
      ],
      "execution_count": 0,
      "outputs": [
        {
          "output_type": "stream",
          "text": [
            "[array([42, 43, 44, 45, 46, 47]), array([42, 43, 44, 45, 46, 47, 48, 49, 50, 51, 52, 53]), array([42, 43, 44, 45, 46, 47, 48, 49, 50, 51, 52, 53, 54, 55, 56, 57, 58,\n",
            "       59, 60, 61])]\n",
            "[array([41., 59., 41., 37., 54., 38.]), array([41., 59., 41., 37., 54., 38., 55., 46., 58., 48., 58., 63.]), array([41., 59., 41., 37., 54., 38., 55., 46., 58., 48., 58., 63., 57.,\n",
            "       73., 52., 57., 49., 42., 57., 58.])]\n"
          ],
          "name": "stdout"
        }
      ]
    },
    {
      "cell_type": "code",
      "metadata": {
        "id": "qcKDzXTPUNzy",
        "colab_type": "code",
        "outputId": "ecc556da-ec31-4ce2-e544-e1c0cf752593",
        "colab": {
          "base_uri": "https://localhost:8080/",
          "height": 1000
        }
      },
      "source": [
        "# train model on 24 points\n",
        "tf.keras.backend.clear_session()\n",
        "tf.random.set_seed(51)\n",
        "np.random.seed(51)\n",
        "\n",
        "train_set = windowed_dataset(x_train, window_size=12, batch_size=30, shuffle_buffer=shuffle_buffer_size)\n",
        "\n",
        "model = tf.keras.models.Sequential([\n",
        "  tf.keras.layers.Conv1D(filters=60, kernel_size=5,\n",
        "                      strides=1, padding=\"causal\",\n",
        "                      activation=\"relu\",\n",
        "                      input_shape=[None, 1]),\n",
        "  tf.keras.layers.LSTM(60, return_sequences=True),\n",
        "  tf.keras.layers.LSTM(60, return_sequences=True),\n",
        "  tf.keras.layers.Dense(30, activation=\"relu\"),\n",
        "  tf.keras.layers.Dense(10, activation=\"relu\"),\n",
        "  tf.keras.layers.Dense(1),\n",
        "  tf.keras.layers.Lambda(lambda x: x * 400)\n",
        "])\n",
        "\n",
        "model.compile(loss=tf.keras.losses.Huber(),\n",
        "              optimizer=OPTIMIZER,\n",
        "              metrics=[\"mae\"])\n",
        "history = model.fit(train_set,epochs=NUM_EPOCHS)"
      ],
      "execution_count": 0,
      "outputs": [
        {
          "output_type": "stream",
          "text": [
            "Epoch 1/100\n",
            "1/1 [==============================] - 2s 2s/step - loss: 31.8981 - mae: 32.3981\n",
            "Epoch 2/100\n",
            "1/1 [==============================] - 0s 25ms/step - loss: 17.7108 - mae: 18.2108\n",
            "Epoch 3/100\n",
            "1/1 [==============================] - 0s 20ms/step - loss: 10.6541 - mae: 11.1487\n",
            "Epoch 4/100\n",
            "1/1 [==============================] - 0s 18ms/step - loss: 17.1503 - mae: 17.6435\n",
            "Epoch 5/100\n",
            "1/1 [==============================] - 0s 19ms/step - loss: 12.5310 - mae: 13.0272\n",
            "Epoch 6/100\n",
            "1/1 [==============================] - 0s 19ms/step - loss: 6.5318 - mae: 7.0183\n",
            "Epoch 7/100\n",
            "1/1 [==============================] - 0s 17ms/step - loss: 8.3081 - mae: 8.8013\n",
            "Epoch 8/100\n",
            "1/1 [==============================] - 0s 17ms/step - loss: 10.0521 - mae: 10.5447\n",
            "Epoch 9/100\n",
            "1/1 [==============================] - 0s 17ms/step - loss: 8.2384 - mae: 8.7350\n",
            "Epoch 10/100\n",
            "1/1 [==============================] - 0s 16ms/step - loss: 4.9890 - mae: 5.4686\n",
            "Epoch 11/100\n",
            "1/1 [==============================] - 0s 18ms/step - loss: 6.0196 - mae: 6.5007\n",
            "Epoch 12/100\n",
            "1/1 [==============================] - 0s 18ms/step - loss: 7.8611 - mae: 8.3536\n",
            "Epoch 13/100\n",
            "1/1 [==============================] - 0s 19ms/step - loss: 7.6381 - mae: 8.1364\n",
            "Epoch 14/100\n",
            "1/1 [==============================] - 0s 20ms/step - loss: 5.9730 - mae: 6.4605\n",
            "Epoch 15/100\n",
            "1/1 [==============================] - 0s 21ms/step - loss: 4.8757 - mae: 5.3530\n",
            "Epoch 16/100\n",
            "1/1 [==============================] - 0s 23ms/step - loss: 6.0504 - mae: 6.5314\n",
            "Epoch 17/100\n",
            "1/1 [==============================] - 0s 21ms/step - loss: 6.6281 - mae: 7.1151\n",
            "Epoch 18/100\n",
            "1/1 [==============================] - 0s 19ms/step - loss: 5.7896 - mae: 6.2731\n",
            "Epoch 19/100\n",
            "1/1 [==============================] - 0s 24ms/step - loss: 4.7112 - mae: 5.1706\n",
            "Epoch 20/100\n",
            "1/1 [==============================] - 0s 20ms/step - loss: 5.0764 - mae: 5.5590\n",
            "Epoch 21/100\n",
            "1/1 [==============================] - 0s 20ms/step - loss: 5.5604 - mae: 6.0515\n",
            "Epoch 22/100\n",
            "1/1 [==============================] - 0s 19ms/step - loss: 5.3537 - mae: 5.8413\n",
            "Epoch 23/100\n",
            "1/1 [==============================] - 0s 21ms/step - loss: 4.7228 - mae: 5.2110\n",
            "Epoch 24/100\n",
            "1/1 [==============================] - 0s 21ms/step - loss: 4.5422 - mae: 5.0109\n",
            "Epoch 25/100\n",
            "1/1 [==============================] - 0s 27ms/step - loss: 5.0926 - mae: 5.5793\n",
            "Epoch 26/100\n",
            "1/1 [==============================] - 0s 26ms/step - loss: 5.0804 - mae: 5.5650\n",
            "Epoch 27/100\n",
            "1/1 [==============================] - 0s 21ms/step - loss: 4.5378 - mae: 5.0089\n",
            "Epoch 28/100\n",
            "1/1 [==============================] - 0s 19ms/step - loss: 4.5444 - mae: 5.0290\n",
            "Epoch 29/100\n",
            "1/1 [==============================] - 0s 20ms/step - loss: 4.8381 - mae: 5.3144\n",
            "Epoch 30/100\n",
            "1/1 [==============================] - 0s 21ms/step - loss: 4.8479 - mae: 5.3221\n",
            "Epoch 31/100\n",
            "1/1 [==============================] - 0s 20ms/step - loss: 4.5620 - mae: 5.0492\n",
            "Epoch 32/100\n",
            "1/1 [==============================] - 0s 21ms/step - loss: 4.4067 - mae: 4.8815\n",
            "Epoch 33/100\n",
            "1/1 [==============================] - 0s 21ms/step - loss: 4.6430 - mae: 5.1074\n",
            "Epoch 34/100\n",
            "1/1 [==============================] - 0s 17ms/step - loss: 4.6491 - mae: 5.1171\n",
            "Epoch 35/100\n",
            "1/1 [==============================] - 0s 22ms/step - loss: 4.3884 - mae: 4.8575\n",
            "Epoch 36/100\n",
            "1/1 [==============================] - 0s 20ms/step - loss: 4.4227 - mae: 4.8961\n",
            "Epoch 37/100\n",
            "1/1 [==============================] - 0s 23ms/step - loss: 4.5521 - mae: 5.0353\n",
            "Epoch 38/100\n",
            "1/1 [==============================] - 0s 24ms/step - loss: 4.4852 - mae: 4.9644\n",
            "Epoch 39/100\n",
            "1/1 [==============================] - 0s 23ms/step - loss: 4.3298 - mae: 4.8022\n",
            "Epoch 40/100\n",
            "1/1 [==============================] - 0s 20ms/step - loss: 4.3833 - mae: 4.8429\n",
            "Epoch 41/100\n",
            "1/1 [==============================] - 0s 21ms/step - loss: 4.4569 - mae: 4.9113\n",
            "Epoch 42/100\n",
            "1/1 [==============================] - 0s 19ms/step - loss: 4.3309 - mae: 4.7961\n",
            "Epoch 43/100\n",
            "1/1 [==============================] - 0s 24ms/step - loss: 4.3045 - mae: 4.7712\n",
            "Epoch 44/100\n",
            "1/1 [==============================] - 0s 22ms/step - loss: 4.3793 - mae: 4.8516\n",
            "Epoch 45/100\n",
            "1/1 [==============================] - 0s 24ms/step - loss: 4.3468 - mae: 4.8168\n",
            "Epoch 46/100\n",
            "1/1 [==============================] - 0s 22ms/step - loss: 4.2639 - mae: 4.7301\n",
            "Epoch 47/100\n",
            "1/1 [==============================] - 0s 20ms/step - loss: 4.2979 - mae: 4.7599\n",
            "Epoch 48/100\n",
            "1/1 [==============================] - 0s 22ms/step - loss: 4.3162 - mae: 4.7743\n",
            "Epoch 49/100\n",
            "1/1 [==============================] - 0s 21ms/step - loss: 4.2440 - mae: 4.7156\n",
            "Epoch 50/100\n",
            "1/1 [==============================] - 0s 21ms/step - loss: 4.2523 - mae: 4.7113\n",
            "Epoch 51/100\n",
            "1/1 [==============================] - 0s 21ms/step - loss: 4.2757 - mae: 4.7426\n",
            "Epoch 52/100\n",
            "1/1 [==============================] - 0s 18ms/step - loss: 4.2394 - mae: 4.6978\n",
            "Epoch 53/100\n",
            "1/1 [==============================] - 0s 22ms/step - loss: 4.2071 - mae: 4.6803\n",
            "Epoch 54/100\n",
            "1/1 [==============================] - 0s 20ms/step - loss: 4.2327 - mae: 4.6963\n",
            "Epoch 55/100\n",
            "1/1 [==============================] - 0s 20ms/step - loss: 4.2146 - mae: 4.6826\n",
            "Epoch 56/100\n",
            "1/1 [==============================] - 0s 27ms/step - loss: 4.1841 - mae: 4.6540\n",
            "Epoch 57/100\n",
            "1/1 [==============================] - 0s 21ms/step - loss: 4.1970 - mae: 4.6530\n",
            "Epoch 58/100\n",
            "1/1 [==============================] - 0s 26ms/step - loss: 4.1948 - mae: 4.6518\n",
            "Epoch 59/100\n",
            "1/1 [==============================] - 0s 21ms/step - loss: 4.1687 - mae: 4.6308\n",
            "Epoch 60/100\n",
            "1/1 [==============================] - 0s 20ms/step - loss: 4.1677 - mae: 4.6398\n",
            "Epoch 61/100\n",
            "1/1 [==============================] - 0s 22ms/step - loss: 4.1736 - mae: 4.6410\n",
            "Epoch 62/100\n",
            "1/1 [==============================] - 0s 21ms/step - loss: 4.1545 - mae: 4.6251\n",
            "Epoch 63/100\n",
            "1/1 [==============================] - 0s 22ms/step - loss: 4.1469 - mae: 4.6111\n",
            "Epoch 64/100\n",
            "1/1 [==============================] - 0s 26ms/step - loss: 4.1518 - mae: 4.6084\n",
            "Epoch 65/100\n",
            "1/1 [==============================] - 0s 23ms/step - loss: 4.1403 - mae: 4.6003\n",
            "Epoch 66/100\n",
            "1/1 [==============================] - 0s 21ms/step - loss: 4.1285 - mae: 4.5969\n",
            "Epoch 67/100\n",
            "1/1 [==============================] - 0s 28ms/step - loss: 4.1306 - mae: 4.5979\n",
            "Epoch 68/100\n",
            "1/1 [==============================] - 0s 31ms/step - loss: 4.1235 - mae: 4.5910\n",
            "Epoch 69/100\n",
            "1/1 [==============================] - 0s 27ms/step - loss: 4.1117 - mae: 4.5789\n",
            "Epoch 70/100\n",
            "1/1 [==============================] - 0s 22ms/step - loss: 4.1107 - mae: 4.5719\n",
            "Epoch 71/100\n",
            "1/1 [==============================] - 0s 20ms/step - loss: 4.1072 - mae: 4.5671\n",
            "Epoch 72/100\n",
            "1/1 [==============================] - 0s 22ms/step - loss: 4.0971 - mae: 4.5605\n",
            "Epoch 73/100\n",
            "1/1 [==============================] - 0s 20ms/step - loss: 4.0927 - mae: 4.5603\n",
            "Epoch 74/100\n",
            "1/1 [==============================] - 0s 25ms/step - loss: 4.0911 - mae: 4.5592\n",
            "Epoch 75/100\n",
            "1/1 [==============================] - 0s 21ms/step - loss: 4.0830 - mae: 4.5505\n",
            "Epoch 76/100\n",
            "1/1 [==============================] - 0s 20ms/step - loss: 4.0768 - mae: 4.5397\n",
            "Epoch 77/100\n",
            "1/1 [==============================] - 0s 24ms/step - loss: 4.0746 - mae: 4.5351\n",
            "Epoch 78/100\n",
            "1/1 [==============================] - 0s 20ms/step - loss: 4.0686 - mae: 4.5295\n",
            "Epoch 79/100\n",
            "1/1 [==============================] - 0s 18ms/step - loss: 4.0615 - mae: 4.5256\n",
            "Epoch 80/100\n",
            "1/1 [==============================] - 0s 23ms/step - loss: 4.0580 - mae: 4.5252\n",
            "Epoch 81/100\n",
            "1/1 [==============================] - 0s 19ms/step - loss: 4.0534 - mae: 4.5207\n",
            "Epoch 82/100\n",
            "1/1 [==============================] - 0s 21ms/step - loss: 4.0465 - mae: 4.5119\n",
            "Epoch 83/100\n",
            "1/1 [==============================] - 0s 26ms/step - loss: 4.0422 - mae: 4.5042\n",
            "Epoch 84/100\n",
            "1/1 [==============================] - 0s 22ms/step - loss: 4.0384 - mae: 4.4993\n",
            "Epoch 85/100\n",
            "1/1 [==============================] - 0s 22ms/step - loss: 4.0325 - mae: 4.4957\n",
            "Epoch 86/100\n",
            "1/1 [==============================] - 0s 23ms/step - loss: 4.0275 - mae: 4.4937\n",
            "Epoch 87/100\n",
            "1/1 [==============================] - 0s 23ms/step - loss: 4.0238 - mae: 4.4910\n",
            "Epoch 88/100\n",
            "1/1 [==============================] - 0s 27ms/step - loss: 4.0185 - mae: 4.4849\n",
            "Epoch 89/100\n",
            "1/1 [==============================] - 0s 28ms/step - loss: 4.0133 - mae: 4.4778\n",
            "Epoch 90/100\n",
            "1/1 [==============================] - 0s 27ms/step - loss: 4.0096 - mae: 4.4725\n",
            "Epoch 91/100\n",
            "1/1 [==============================] - 0s 24ms/step - loss: 4.0051 - mae: 4.4680\n",
            "Epoch 92/100\n",
            "1/1 [==============================] - 0s 23ms/step - loss: 4.0002 - mae: 4.4644\n",
            "Epoch 93/100\n",
            "1/1 [==============================] - 0s 20ms/step - loss: 3.9958 - mae: 4.4610\n",
            "Epoch 94/100\n",
            "1/1 [==============================] - 0s 21ms/step - loss: 3.9914 - mae: 4.4568\n",
            "Epoch 95/100\n",
            "1/1 [==============================] - 0s 18ms/step - loss: 3.9865 - mae: 4.4512\n",
            "Epoch 96/100\n",
            "1/1 [==============================] - 0s 21ms/step - loss: 3.9821 - mae: 4.4454\n",
            "Epoch 97/100\n",
            "1/1 [==============================] - 0s 23ms/step - loss: 3.9778 - mae: 4.4405\n",
            "Epoch 98/100\n",
            "1/1 [==============================] - 0s 22ms/step - loss: 3.9732 - mae: 4.4364\n",
            "Epoch 99/100\n",
            "1/1 [==============================] - 0s 21ms/step - loss: 3.9689 - mae: 4.4329\n",
            "Epoch 100/100\n",
            "1/1 [==============================] - 0s 21ms/step - loss: 3.9651 - mae: 4.4294\n"
          ],
          "name": "stdout"
        }
      ]
    },
    {
      "cell_type": "code",
      "metadata": {
        "id": "t68zX3T3UNz1",
        "colab_type": "code",
        "outputId": "bb50dd23-6826-4f57-8830-b581b1280bf9",
        "colab": {
          "base_uri": "https://localhost:8080/",
          "height": 92
        }
      },
      "source": [
        "# original code\n",
        "rnn_forecast = model_forecast(model, series[..., np.newaxis], window_size)\n",
        "rnn_forecast = rnn_forecast[split_time - window_size:-1, -1, 0]\n",
        "\n",
        "print(len(rnn_forecast))\n",
        "print(rnn_forecast)"
      ],
      "execution_count": 0,
      "outputs": [
        {
          "output_type": "stream",
          "text": [
            "20\n",
            "[42.59435  42.318684 42.5043   41.830097 44.187504 39.665134 40.851032\n",
            " 42.85339  40.73466  43.586166 42.430115 44.306213 43.213375 45.687992\n",
            " 44.963497 44.855164 46.078785 42.277058 43.343906 41.446083]\n"
          ],
          "name": "stdout"
        }
      ]
    },
    {
      "cell_type": "code",
      "metadata": {
        "id": "kwO0Uyx-UNz7",
        "colab_type": "code",
        "outputId": "dd12f6f2-bd29-4ec7-9e57-0a27ce69624e",
        "colab": {
          "base_uri": "https://localhost:8080/",
          "height": 54
        }
      },
      "source": [
        "x_valid[2]"
      ],
      "execution_count": 0,
      "outputs": [
        {
          "output_type": "execute_result",
          "data": {
            "text/plain": [
              "array([41., 59., 41., 37., 54., 38., 55., 46., 58., 48., 58., 63., 57.,\n",
              "       73., 52., 57., 49., 42., 57., 58.])"
            ]
          },
          "metadata": {
            "tags": []
          },
          "execution_count": 63
        }
      ]
    },
    {
      "cell_type": "code",
      "metadata": {
        "id": "PN-prFviUNz-",
        "colab_type": "code",
        "outputId": "acfb1e50-8be6-4dee-f797-0d7c886af755",
        "colab": {
          "base_uri": "https://localhost:8080/",
          "height": 36
        }
      },
      "source": [
        "mae_LSTM=tf.keras.metrics.mean_absolute_error(x_valid[2], rnn_forecast).numpy()\n",
        "mae_LSTM"
      ],
      "execution_count": 0,
      "outputs": [
        {
          "output_type": "execute_result",
          "data": {
            "text/plain": [
              "10.150718"
            ]
          },
          "metadata": {
            "tags": []
          },
          "execution_count": 64
        }
      ]
    },
    {
      "cell_type": "code",
      "metadata": {
        "id": "QfiGbY9rjx9Z",
        "colab_type": "code",
        "outputId": "5702e40e-5400-41a3-bce8-0d10ec718162",
        "colab": {
          "base_uri": "https://localhost:8080/",
          "height": 36
        }
      },
      "source": [
        "# get forecasts for multiple horizons\n",
        "results_h = []\n",
        "for h in horizon:\n",
        "  results_h.append([])\n",
        "\n",
        "print(results_h)"
      ],
      "execution_count": 0,
      "outputs": [
        {
          "output_type": "stream",
          "text": [
            "[[], [], []]\n"
          ],
          "name": "stdout"
        }
      ]
    },
    {
      "cell_type": "code",
      "metadata": {
        "id": "_C2lbmN3UN0C",
        "colab_type": "code",
        "colab": {}
      },
      "source": [
        "rnn_forecast = model_forecast(model, series[..., np.newaxis], window_size)\n",
        "rnn_forecast = rnn_forecast[split_time - window_size:-1, -1, 0]\n",
        "\n",
        "for i in range(len(horizon)):\n",
        "  if start_index < num_windows[i]: # don't add forecasts (or MAE) if past the number of windows for that test set size\n",
        "    results_h[i] = rnn_forecast[:horizon[i]]"
      ],
      "execution_count": 0,
      "outputs": []
    },
    {
      "cell_type": "code",
      "metadata": {
        "id": "ed-sYnI1nj8p",
        "colab_type": "code",
        "outputId": "2449191d-a36e-4705-8100-94b6e079c0c4",
        "colab": {
          "base_uri": "https://localhost:8080/",
          "height": 148
        }
      },
      "source": [
        "print(results_h[0])\n",
        "print(len(results_h[0]))\n",
        "print(results_h[1])\n",
        "print(len(results_h[1]))\n",
        "print(results_h[2]) # empty because start_index >= num_windows[2]\n",
        "print(len(results_h[2]))"
      ],
      "execution_count": 0,
      "outputs": [
        {
          "output_type": "stream",
          "text": [
            "[42.59435  42.318684 42.5043   41.830097 44.187504 39.665134]\n",
            "6\n",
            "[42.59435  42.318684 42.5043   41.830097 44.187504 39.665134 40.851032\n",
            " 42.85339  40.73466  43.586166 42.430115 44.306213]\n",
            "12\n",
            "[]\n",
            "0\n"
          ],
          "name": "stdout"
        }
      ]
    },
    {
      "cell_type": "code",
      "metadata": {
        "id": "p3zYuTAbukxF",
        "colab_type": "code",
        "outputId": "496c79c7-163b-4db7-90fe-f0e780d9cbc3",
        "colab": {
          "base_uri": "https://localhost:8080/",
          "height": 54
        }
      },
      "source": [
        "print(tf.keras.metrics.mean_absolute_error(x_valid[0], results_h[0]).numpy())\n",
        "print(tf.keras.metrics.mean_absolute_error(x_valid[1], results_h[1]).numpy())\n",
        "#print(tf.keras.metrics.mean_absolute_error(x_valid[2], results_h[2]).numpy())"
      ],
      "execution_count": 0,
      "outputs": [
        {
          "output_type": "stream",
          "text": [
            "6.0146155\n",
            "9.110509\n"
          ],
          "name": "stdout"
        }
      ]
    },
    {
      "cell_type": "code",
      "metadata": {
        "id": "WWFQSGjb31P4",
        "colab_type": "code",
        "colab": {}
      },
      "source": [
        ""
      ],
      "execution_count": 0,
      "outputs": []
    }
  ]
}